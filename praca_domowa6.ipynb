{
  "cells": [
    {
      "cell_type": "markdown",
      "metadata": {
        "id": "view-in-github",
        "colab_type": "text"
      },
      "source": [
        "<a href=\"https://colab.research.google.com/github/kaluznys/uczenie_maszynowe_UW/blob/main/praca_domowa6.ipynb\" target=\"_parent\"><img src=\"https://colab.research.google.com/assets/colab-badge.svg\" alt=\"Open In Colab\"/></a>"
      ]
    },
    {
      "cell_type": "markdown",
      "source": [
        "# **Homework Assignment: Understanding Splitting Criteria in CART for Regression**\n",
        "---------------------\n",
        "\n",
        "In this assignment, you will explore three common formulations of the splitting criterion used in **CART (Classification and Regression Trees)** for **regression problems**:\n",
        "\n",
        "1. **Local RSS Minimization**  \n",
        "2. **RSS Gain Maximization**  \n",
        "3. **Total RSS Minimization**\n",
        "\n",
        "You will investigate whether any of these criteria are equivalent, and you will design an experiment to determine which criterion is actually employed in a standard implementation such as **scikit-learn’s DecisionTreeRegressor**.\n",
        "\n",
        "\n",
        "\n",
        "## **The Problem**\n",
        "\n",
        "Many treatments of CART for regression describe the split selection process in different ways. Below are three frequently cited formulations. Suppose we have a dataset with features $X$ and target $y$, and we seek to choose a feature $X_j$ and a threshold $t$ to split the data into two regions $R_1(X_j, t)$ and $R_2(X_j, t)$. Denote by $\\bar{y}_{R_m}$ the mean of targets within region $R_m$.\n",
        "\n",
        "1. **Local RSS Minimization**  \n",
        "   We select the feature and threshold that minimize the **sum of squared errors** in the two resulting child nodes:\n",
        "   $$\n",
        "   (X_j^*, t^*) = \\arg\\min_{X_j, t} \\sum_{m=1}^{2} \\sum_{i : x_i \\in R_m(X_j, t)} (y_i - \\bar{y}_{R_m})^2.\n",
        "   $$\n",
        "\n",
        "2. **RSS Gain Maximization**  \n",
        "\n",
        "   It is also a local method, looking only at a parent and two child nodes.\n",
        "\n",
        "   We select the feature and threshold that maximize the **reduction** in RSS, computed by subtracting the RSS of the two child nodes from the RSS in the parent node:\n",
        "   $$\n",
        "   (X_j^*, t^*) = \\arg\\max_{X_j, t} \\Bigl\\{\n",
        "   \\underbrace{\\sum_{i : x_i \\in \\text{Parent}} (y_i - \\bar{y})^2}_{\\text{Parent RSS}}\n",
        "   \\;-\\;\n",
        "   \\underbrace{\\sum_{m=1}^{2} \\sum_{i : x_i \\in R_m(X_j, t)} (y_i - \\bar{y}_{R_m})^2}_{\\text{Children RSS}}\n",
        "   \\Bigr\\}.\n",
        "   $$\n",
        "\n",
        "3. **Total RSS Minimization**  \n",
        "   For a dataset $\\{(x_i, y_i)\\}_{i=1}^N$ with features $X$ and target $y$, let $T$ be the current tree.\n",
        "\n",
        "   For any split on feature $X_j$ at threshold $t$, define $T(X_j, t)$ as the new tree obtained by splitting one leaf of $T$ into two leaves $R_1(X_j, t)$ and $R_2(X_j, t)$.\n",
        "   \n",
        "   Let $\\mathrm{Leaves}(T(X_j, t))$ be the set of all leaf indices in this new tree. For each leaf $m \\in \\mathrm{Leaves}(T(X_j, t))$, define:\n",
        "   $$\n",
        "   R_m = \\{\\, i \\,\\mid\\, x_i \\text{ ends in leaf } m\\}.\n",
        "   $$\n",
        "\n",
        "   $R_m$ set collects all data indices $i$ whose feature vector $x_i$ is classified into the leaf node $m$ when passed through the tree $T(X_j,t)$. In other words, each leaf node $m$ in $T(X_j, t)$ corresponds to a unique path of splits, and any data point $x_i$ that follows that path is assigned to the leaf $m$; hence, it belongs to $R_m$.\n",
        "\n",
        "   $R_m$ sets for all leafs $m \\in \\mathrm{Leaves}(T(X_j, t))$ define a partition of all indices.\n",
        "\n",
        "   Then the objective of **minimizing total Residual Sum of Squares (total RSS)** is stated as:\n",
        "   $$\n",
        "   (X_j^*, t^*) = \\arg\\min_{(X_j, t)} \\sum_{m \\in \\mathrm{Leaves}(T(X_j, t))}\n",
        "   \\sum_{i \\in R_m} \\Bigl(y_i - \\overline{y}_{R_m}\\Bigr)^2,\n",
        "   $$\n",
        "   where\n",
        "   $$\n",
        "   \\overline{y}_{R_m} = \\frac{1}{\\lvert R_m \\rvert}\n",
        "   \\sum_{i \\in R_m} y_i\n",
        "   $$\n",
        "   is the mean response in leaf $m$.\n",
        "\n",
        "\n",
        "## **Research Questions**\n",
        "\n",
        "1. **Equivalence Analysis**  \n",
        "   Determine whether the above formulations are equivalent or if they can yield different split choices. Specifically:\n",
        "   - Are *local RSS minimization* and *RSS gain maximization* equivalent?\n",
        "   - Does *total RSS minimization* coincide with either of these two, or is it distinct?\n",
        "   \n",
        "2. **Empirical Experiment**  \n",
        "   Design and conduct a Python experiment to determine which of these formulations is implemented in `scikit-learn` in `DecisionTreeRegressor`. Present numerical results and plots to support your conclusion.\n",
        "\n",
        "\n",
        "## **Tasks & Deliverables**\n",
        "\n",
        "1. **Formulation Analysis**  \n",
        "   - Compare *local RSS minimization*, *RSS gain maximization*, and *total RSS minimization*.\n",
        "   - If you find that any pair of formulations is equivalent, provide a concise proof.  \n",
        "   - If you find that they differ, construct a counterexample.\n",
        "\n",
        "2. **Empirical Verification**  \n",
        "   - Create a small artificial dataset and train a `DecisionTreeRegressor` from `scikit-learn`.\n",
        "   - The dataset must be designed in a way that uniquely identifies the formulation used. Provide a short code snippet and a plot or table to support your conclusion.\n",
        "\n",
        "3. **Report**  \n",
        "   - Summarize your theoretical insights and empirical findings in a **Colab notebook**.\n",
        "   - Include the relevant proofs, code, discussion, and conclusions.\n",
        "   - Place the notebook in your **GitHub repository** for this course, add a link to it in your README.md and add an **“Open in Colab”** badge in the notebook so it can be launched directly.\n",
        "\n"
      ],
      "metadata": {
        "id": "CiiBWLwyz6PI"
      },
      "id": "CiiBWLwyz6PI"
    },
    {
      "cell_type": "code",
      "source": [
        "import pandas as pd\n",
        "import numpy as np\n",
        "import matplotlib.pyplot as plt\n",
        "from sklearn.tree import DecisionTreeRegressor\n",
        "from sklearn.model_selection import train_test_split\n",
        "from sklearn.metrics import mean_squared_error\n"
      ],
      "metadata": {
        "id": "riXsgF53_dk9"
      },
      "id": "riXsgF53_dk9",
      "execution_count": 30,
      "outputs": []
    },
    {
      "cell_type": "code",
      "source": [
        "np.random.seed(42)\n",
        "n_samples=50\n",
        "ages = np.random.randint(20, 70, size=n_samples)\n",
        "incomes = np.random.normal(loc=60000, scale=15000, size=n_samples).astype(int)\n",
        "house_sizes = np.random.normal(loc=50, scale=15, size=n_samples).astype(int)\n",
        "nr_of_houses = np.random.poisson(lam=1, size=n_samples)\n",
        "nr_of_houses  = np.ceil(nr_of_houses)+1\n",
        "locations = np.random.choice(['urban', 'suburban', 'rural'], size=n_samples)"
      ],
      "metadata": {
        "id": "VdB6Jgt8-kr4"
      },
      "id": "VdB6Jgt8-kr4",
      "execution_count": 37,
      "outputs": []
    },
    {
      "cell_type": "code",
      "source": [
        "nr_of_houses"
      ],
      "metadata": {
        "id": "Ec_5nOv0qe9R",
        "outputId": "fee6ad15-576f-421a-ae59-b1d773dc5f07",
        "colab": {
          "base_uri": "https://localhost:8080/"
        }
      },
      "id": "Ec_5nOv0qe9R",
      "execution_count": 38,
      "outputs": [
        {
          "output_type": "execute_result",
          "data": {
            "text/plain": [
              "array([2., 2., 1., 1., 3., 2., 2., 2., 2., 1., 1., 3., 3., 2., 1., 4., 1.,\n",
              "       5., 1., 1., 3., 1., 2., 1., 3., 1., 2., 1., 4., 2., 1., 1., 1., 3.,\n",
              "       3., 2., 1., 2., 1., 2., 4., 1., 5., 1., 2., 1., 1., 3., 2., 3.])"
            ]
          },
          "metadata": {},
          "execution_count": 38
        }
      ]
    },
    {
      "cell_type": "code",
      "source": [
        "df = pd.DataFrame({\n",
        "    'Age': ages,\n",
        "    'Income': incomes,\n",
        "    'HouseSize': house_sizes,\n",
        "    'NrOfHouses': nr_of_houses,\n",
        "    'Location': locations,\n",
        "})\n",
        "df = pd.get_dummies(df, \"location\")"
      ],
      "metadata": {
        "id": "SK1fp56rCS9f"
      },
      "id": "SK1fp56rCS9f",
      "execution_count": 39,
      "outputs": []
    },
    {
      "cell_type": "code",
      "source": [
        "house_prices = (\n",
        "    50000 +\n",
        "    (ages * -100) +\n",
        "    (incomes * 0.5) +\n",
        "    (house_sizes * 4800) +\n",
        "    (nr_of_houses * 10000) +\n",
        "    (df.location_rural*-50000) +\n",
        "    (df.location_suburban*30000)+\n",
        "    (df.location_urban*-30000) +\n",
        "    np.random.normal(0, 10000, size=n_samples)\n",
        ")\n",
        "df['price'] = house_prices\n",
        "df.head()"
      ],
      "metadata": {
        "id": "2ocbVyLqBCEA",
        "outputId": "21c63e67-bd51-49ad-dcf8-7335e61f34b0",
        "colab": {
          "base_uri": "https://localhost:8080/",
          "height": 206
        }
      },
      "id": "2ocbVyLqBCEA",
      "execution_count": 40,
      "outputs": [
        {
          "output_type": "execute_result",
          "data": {
            "text/plain": [
              "   Age  Income  HouseSize  NrOfHouses  location_rural  location_suburban  \\\n",
              "0   58   64365         41         2.0            True              False   \n",
              "1   48   50466         27         2.0           False               True   \n",
              "2   34   44676         38         1.0           False               True   \n",
              "3   62   57573         61         1.0           False               True   \n",
              "4   27   51995         46         3.0           False              False   \n",
              "\n",
              "   location_urban          price  \n",
              "0           False  258786.301411  \n",
              "1           False  251318.510001  \n",
              "2           False  296833.763451  \n",
              "3           False  392677.781931  \n",
              "4            True  317987.859574  "
            ],
            "text/html": [
              "\n",
              "  <div id=\"df-d35ba800-9d15-4e67-a72d-f35c970ddeef\" class=\"colab-df-container\">\n",
              "    <div>\n",
              "<style scoped>\n",
              "    .dataframe tbody tr th:only-of-type {\n",
              "        vertical-align: middle;\n",
              "    }\n",
              "\n",
              "    .dataframe tbody tr th {\n",
              "        vertical-align: top;\n",
              "    }\n",
              "\n",
              "    .dataframe thead th {\n",
              "        text-align: right;\n",
              "    }\n",
              "</style>\n",
              "<table border=\"1\" class=\"dataframe\">\n",
              "  <thead>\n",
              "    <tr style=\"text-align: right;\">\n",
              "      <th></th>\n",
              "      <th>Age</th>\n",
              "      <th>Income</th>\n",
              "      <th>HouseSize</th>\n",
              "      <th>NrOfHouses</th>\n",
              "      <th>location_rural</th>\n",
              "      <th>location_suburban</th>\n",
              "      <th>location_urban</th>\n",
              "      <th>price</th>\n",
              "    </tr>\n",
              "  </thead>\n",
              "  <tbody>\n",
              "    <tr>\n",
              "      <th>0</th>\n",
              "      <td>58</td>\n",
              "      <td>64365</td>\n",
              "      <td>41</td>\n",
              "      <td>2.0</td>\n",
              "      <td>True</td>\n",
              "      <td>False</td>\n",
              "      <td>False</td>\n",
              "      <td>258786.301411</td>\n",
              "    </tr>\n",
              "    <tr>\n",
              "      <th>1</th>\n",
              "      <td>48</td>\n",
              "      <td>50466</td>\n",
              "      <td>27</td>\n",
              "      <td>2.0</td>\n",
              "      <td>False</td>\n",
              "      <td>True</td>\n",
              "      <td>False</td>\n",
              "      <td>251318.510001</td>\n",
              "    </tr>\n",
              "    <tr>\n",
              "      <th>2</th>\n",
              "      <td>34</td>\n",
              "      <td>44676</td>\n",
              "      <td>38</td>\n",
              "      <td>1.0</td>\n",
              "      <td>False</td>\n",
              "      <td>True</td>\n",
              "      <td>False</td>\n",
              "      <td>296833.763451</td>\n",
              "    </tr>\n",
              "    <tr>\n",
              "      <th>3</th>\n",
              "      <td>62</td>\n",
              "      <td>57573</td>\n",
              "      <td>61</td>\n",
              "      <td>1.0</td>\n",
              "      <td>False</td>\n",
              "      <td>True</td>\n",
              "      <td>False</td>\n",
              "      <td>392677.781931</td>\n",
              "    </tr>\n",
              "    <tr>\n",
              "      <th>4</th>\n",
              "      <td>27</td>\n",
              "      <td>51995</td>\n",
              "      <td>46</td>\n",
              "      <td>3.0</td>\n",
              "      <td>False</td>\n",
              "      <td>False</td>\n",
              "      <td>True</td>\n",
              "      <td>317987.859574</td>\n",
              "    </tr>\n",
              "  </tbody>\n",
              "</table>\n",
              "</div>\n",
              "    <div class=\"colab-df-buttons\">\n",
              "\n",
              "  <div class=\"colab-df-container\">\n",
              "    <button class=\"colab-df-convert\" onclick=\"convertToInteractive('df-d35ba800-9d15-4e67-a72d-f35c970ddeef')\"\n",
              "            title=\"Convert this dataframe to an interactive table.\"\n",
              "            style=\"display:none;\">\n",
              "\n",
              "  <svg xmlns=\"http://www.w3.org/2000/svg\" height=\"24px\" viewBox=\"0 -960 960 960\">\n",
              "    <path d=\"M120-120v-720h720v720H120Zm60-500h600v-160H180v160Zm220 220h160v-160H400v160Zm0 220h160v-160H400v160ZM180-400h160v-160H180v160Zm440 0h160v-160H620v160ZM180-180h160v-160H180v160Zm440 0h160v-160H620v160Z\"/>\n",
              "  </svg>\n",
              "    </button>\n",
              "\n",
              "  <style>\n",
              "    .colab-df-container {\n",
              "      display:flex;\n",
              "      gap: 12px;\n",
              "    }\n",
              "\n",
              "    .colab-df-convert {\n",
              "      background-color: #E8F0FE;\n",
              "      border: none;\n",
              "      border-radius: 50%;\n",
              "      cursor: pointer;\n",
              "      display: none;\n",
              "      fill: #1967D2;\n",
              "      height: 32px;\n",
              "      padding: 0 0 0 0;\n",
              "      width: 32px;\n",
              "    }\n",
              "\n",
              "    .colab-df-convert:hover {\n",
              "      background-color: #E2EBFA;\n",
              "      box-shadow: 0px 1px 2px rgba(60, 64, 67, 0.3), 0px 1px 3px 1px rgba(60, 64, 67, 0.15);\n",
              "      fill: #174EA6;\n",
              "    }\n",
              "\n",
              "    .colab-df-buttons div {\n",
              "      margin-bottom: 4px;\n",
              "    }\n",
              "\n",
              "    [theme=dark] .colab-df-convert {\n",
              "      background-color: #3B4455;\n",
              "      fill: #D2E3FC;\n",
              "    }\n",
              "\n",
              "    [theme=dark] .colab-df-convert:hover {\n",
              "      background-color: #434B5C;\n",
              "      box-shadow: 0px 1px 3px 1px rgba(0, 0, 0, 0.15);\n",
              "      filter: drop-shadow(0px 1px 2px rgba(0, 0, 0, 0.3));\n",
              "      fill: #FFFFFF;\n",
              "    }\n",
              "  </style>\n",
              "\n",
              "    <script>\n",
              "      const buttonEl =\n",
              "        document.querySelector('#df-d35ba800-9d15-4e67-a72d-f35c970ddeef button.colab-df-convert');\n",
              "      buttonEl.style.display =\n",
              "        google.colab.kernel.accessAllowed ? 'block' : 'none';\n",
              "\n",
              "      async function convertToInteractive(key) {\n",
              "        const element = document.querySelector('#df-d35ba800-9d15-4e67-a72d-f35c970ddeef');\n",
              "        const dataTable =\n",
              "          await google.colab.kernel.invokeFunction('convertToInteractive',\n",
              "                                                    [key], {});\n",
              "        if (!dataTable) return;\n",
              "\n",
              "        const docLinkHtml = 'Like what you see? Visit the ' +\n",
              "          '<a target=\"_blank\" href=https://colab.research.google.com/notebooks/data_table.ipynb>data table notebook</a>'\n",
              "          + ' to learn more about interactive tables.';\n",
              "        element.innerHTML = '';\n",
              "        dataTable['output_type'] = 'display_data';\n",
              "        await google.colab.output.renderOutput(dataTable, element);\n",
              "        const docLink = document.createElement('div');\n",
              "        docLink.innerHTML = docLinkHtml;\n",
              "        element.appendChild(docLink);\n",
              "      }\n",
              "    </script>\n",
              "  </div>\n",
              "\n",
              "\n",
              "<div id=\"df-514b7eef-8b65-4fc7-a0b0-408ffb4a93dc\">\n",
              "  <button class=\"colab-df-quickchart\" onclick=\"quickchart('df-514b7eef-8b65-4fc7-a0b0-408ffb4a93dc')\"\n",
              "            title=\"Suggest charts\"\n",
              "            style=\"display:none;\">\n",
              "\n",
              "<svg xmlns=\"http://www.w3.org/2000/svg\" height=\"24px\"viewBox=\"0 0 24 24\"\n",
              "     width=\"24px\">\n",
              "    <g>\n",
              "        <path d=\"M19 3H5c-1.1 0-2 .9-2 2v14c0 1.1.9 2 2 2h14c1.1 0 2-.9 2-2V5c0-1.1-.9-2-2-2zM9 17H7v-7h2v7zm4 0h-2V7h2v10zm4 0h-2v-4h2v4z\"/>\n",
              "    </g>\n",
              "</svg>\n",
              "  </button>\n",
              "\n",
              "<style>\n",
              "  .colab-df-quickchart {\n",
              "      --bg-color: #E8F0FE;\n",
              "      --fill-color: #1967D2;\n",
              "      --hover-bg-color: #E2EBFA;\n",
              "      --hover-fill-color: #174EA6;\n",
              "      --disabled-fill-color: #AAA;\n",
              "      --disabled-bg-color: #DDD;\n",
              "  }\n",
              "\n",
              "  [theme=dark] .colab-df-quickchart {\n",
              "      --bg-color: #3B4455;\n",
              "      --fill-color: #D2E3FC;\n",
              "      --hover-bg-color: #434B5C;\n",
              "      --hover-fill-color: #FFFFFF;\n",
              "      --disabled-bg-color: #3B4455;\n",
              "      --disabled-fill-color: #666;\n",
              "  }\n",
              "\n",
              "  .colab-df-quickchart {\n",
              "    background-color: var(--bg-color);\n",
              "    border: none;\n",
              "    border-radius: 50%;\n",
              "    cursor: pointer;\n",
              "    display: none;\n",
              "    fill: var(--fill-color);\n",
              "    height: 32px;\n",
              "    padding: 0;\n",
              "    width: 32px;\n",
              "  }\n",
              "\n",
              "  .colab-df-quickchart:hover {\n",
              "    background-color: var(--hover-bg-color);\n",
              "    box-shadow: 0 1px 2px rgba(60, 64, 67, 0.3), 0 1px 3px 1px rgba(60, 64, 67, 0.15);\n",
              "    fill: var(--button-hover-fill-color);\n",
              "  }\n",
              "\n",
              "  .colab-df-quickchart-complete:disabled,\n",
              "  .colab-df-quickchart-complete:disabled:hover {\n",
              "    background-color: var(--disabled-bg-color);\n",
              "    fill: var(--disabled-fill-color);\n",
              "    box-shadow: none;\n",
              "  }\n",
              "\n",
              "  .colab-df-spinner {\n",
              "    border: 2px solid var(--fill-color);\n",
              "    border-color: transparent;\n",
              "    border-bottom-color: var(--fill-color);\n",
              "    animation:\n",
              "      spin 1s steps(1) infinite;\n",
              "  }\n",
              "\n",
              "  @keyframes spin {\n",
              "    0% {\n",
              "      border-color: transparent;\n",
              "      border-bottom-color: var(--fill-color);\n",
              "      border-left-color: var(--fill-color);\n",
              "    }\n",
              "    20% {\n",
              "      border-color: transparent;\n",
              "      border-left-color: var(--fill-color);\n",
              "      border-top-color: var(--fill-color);\n",
              "    }\n",
              "    30% {\n",
              "      border-color: transparent;\n",
              "      border-left-color: var(--fill-color);\n",
              "      border-top-color: var(--fill-color);\n",
              "      border-right-color: var(--fill-color);\n",
              "    }\n",
              "    40% {\n",
              "      border-color: transparent;\n",
              "      border-right-color: var(--fill-color);\n",
              "      border-top-color: var(--fill-color);\n",
              "    }\n",
              "    60% {\n",
              "      border-color: transparent;\n",
              "      border-right-color: var(--fill-color);\n",
              "    }\n",
              "    80% {\n",
              "      border-color: transparent;\n",
              "      border-right-color: var(--fill-color);\n",
              "      border-bottom-color: var(--fill-color);\n",
              "    }\n",
              "    90% {\n",
              "      border-color: transparent;\n",
              "      border-bottom-color: var(--fill-color);\n",
              "    }\n",
              "  }\n",
              "</style>\n",
              "\n",
              "  <script>\n",
              "    async function quickchart(key) {\n",
              "      const quickchartButtonEl =\n",
              "        document.querySelector('#' + key + ' button');\n",
              "      quickchartButtonEl.disabled = true;  // To prevent multiple clicks.\n",
              "      quickchartButtonEl.classList.add('colab-df-spinner');\n",
              "      try {\n",
              "        const charts = await google.colab.kernel.invokeFunction(\n",
              "            'suggestCharts', [key], {});\n",
              "      } catch (error) {\n",
              "        console.error('Error during call to suggestCharts:', error);\n",
              "      }\n",
              "      quickchartButtonEl.classList.remove('colab-df-spinner');\n",
              "      quickchartButtonEl.classList.add('colab-df-quickchart-complete');\n",
              "    }\n",
              "    (() => {\n",
              "      let quickchartButtonEl =\n",
              "        document.querySelector('#df-514b7eef-8b65-4fc7-a0b0-408ffb4a93dc button');\n",
              "      quickchartButtonEl.style.display =\n",
              "        google.colab.kernel.accessAllowed ? 'block' : 'none';\n",
              "    })();\n",
              "  </script>\n",
              "</div>\n",
              "\n",
              "    </div>\n",
              "  </div>\n"
            ],
            "application/vnd.google.colaboratory.intrinsic+json": {
              "type": "dataframe",
              "variable_name": "df",
              "summary": "{\n  \"name\": \"df\",\n  \"rows\": 50,\n  \"fields\": [\n    {\n      \"column\": \"Age\",\n      \"properties\": {\n        \"dtype\": \"number\",\n        \"std\": 13,\n        \"min\": 21,\n        \"max\": 69,\n        \"num_unique_values\": 35,\n        \"samples\": [\n          66,\n          41,\n          47\n        ],\n        \"semantic_type\": \"\",\n        \"description\": \"\"\n      }\n    },\n    {\n      \"column\": \"Income\",\n      \"properties\": {\n        \"dtype\": \"number\",\n        \"std\": 15671,\n        \"min\": 36250,\n        \"max\": 110584,\n        \"num_unique_values\": 50,\n        \"samples\": [\n          73226,\n          71933,\n          57334\n        ],\n        \"semantic_type\": \"\",\n        \"description\": \"\"\n      }\n    },\n    {\n      \"column\": \"HouseSize\",\n      \"properties\": {\n        \"dtype\": \"number\",\n        \"std\": 13,\n        \"min\": 10,\n        \"max\": 71,\n        \"num_unique_values\": 31,\n        \"samples\": [\n          40,\n          69,\n          49\n        ],\n        \"semantic_type\": \"\",\n        \"description\": \"\"\n      }\n    },\n    {\n      \"column\": \"NrOfHouses\",\n      \"properties\": {\n        \"dtype\": \"number\",\n        \"std\": 1.1065666703449764,\n        \"min\": 1.0,\n        \"max\": 5.0,\n        \"num_unique_values\": 5,\n        \"samples\": [\n          1.0,\n          5.0,\n          3.0\n        ],\n        \"semantic_type\": \"\",\n        \"description\": \"\"\n      }\n    },\n    {\n      \"column\": \"location_rural\",\n      \"properties\": {\n        \"dtype\": \"boolean\",\n        \"num_unique_values\": 2,\n        \"samples\": [\n          false,\n          true\n        ],\n        \"semantic_type\": \"\",\n        \"description\": \"\"\n      }\n    },\n    {\n      \"column\": \"location_suburban\",\n      \"properties\": {\n        \"dtype\": \"boolean\",\n        \"num_unique_values\": 2,\n        \"samples\": [\n          true,\n          false\n        ],\n        \"semantic_type\": \"\",\n        \"description\": \"\"\n      }\n    },\n    {\n      \"column\": \"location_urban\",\n      \"properties\": {\n        \"dtype\": \"boolean\",\n        \"num_unique_values\": 2,\n        \"samples\": [\n          true,\n          false\n        ],\n        \"semantic_type\": \"\",\n        \"description\": \"\"\n      }\n    },\n    {\n      \"column\": \"price\",\n      \"properties\": {\n        \"dtype\": \"number\",\n        \"std\": 78888.04053057583,\n        \"min\": 152199.15797751845,\n        \"max\": 478179.4482782403,\n        \"num_unique_values\": 50,\n        \"samples\": [\n          402021.6764090947,\n          335109.85228745453\n        ],\n        \"semantic_type\": \"\",\n        \"description\": \"\"\n      }\n    }\n  ]\n}"
            }
          },
          "metadata": {},
          "execution_count": 40
        }
      ]
    },
    {
      "cell_type": "code",
      "source": [
        "def rss(y):\n",
        "    if len(y) == 0:\n",
        "        return 0\n",
        "    return np.sum((y - np.mean(y)) ** 2)"
      ],
      "metadata": {
        "id": "UlYyA5gVDkB2"
      },
      "id": "UlYyA5gVDkB2",
      "execution_count": 8,
      "outputs": []
    },
    {
      "cell_type": "code",
      "source": [
        "class TreeNode:\n",
        "    def __init__(self, feature=None, value=None, left=None, right=None, prediction=None):\n",
        "        self.feature = feature\n",
        "        self.value = value\n",
        "        self.left = left\n",
        "        self.right = right\n",
        "        self.prediction = prediction"
      ],
      "metadata": {
        "id": "kQRRljpegnMQ"
      },
      "id": "kQRRljpegnMQ",
      "execution_count": 9,
      "outputs": []
    },
    {
      "cell_type": "code",
      "source": [
        "def best_split_rss_gain(X, y):\n",
        "    best_feature, best_value = None, None\n",
        "    best_rss = float('-inf')\n",
        "\n",
        "    for feature_idx in range(X.shape[1]):\n",
        "        values = np.unique(X[:, feature_idx])\n",
        "\n",
        "        for val in values:\n",
        "            left_mask = X[:, feature_idx] <= val\n",
        "            right_mask = ~left_mask\n",
        "\n",
        "            y_left, y_right = y[left_mask], y[right_mask]\n",
        "\n",
        "            rss_gain = rss(y) - (rss(y_left) + rss(y_right))  # Local RSS\n",
        "\n",
        "            if rss_gain > best_rss:\n",
        "                best_rss = rss_gain\n",
        "                best_feature = feature_idx\n",
        "                best_value = val\n",
        "\n",
        "    return best_feature, best_value, best_rss"
      ],
      "metadata": {
        "id": "qIZTnhCxg3T4"
      },
      "id": "qIZTnhCxg3T4",
      "execution_count": 10,
      "outputs": []
    },
    {
      "cell_type": "code",
      "source": [
        "def compute_total_rss(X, y, node):\n",
        "    if node.prediction is not None:\n",
        "        return rss(y)\n",
        "\n",
        "    left_mask = X[:, node.feature] <= node.value\n",
        "    right_mask = ~left_mask\n",
        "\n",
        "    rss_left = compute_total_rss(X[left_mask], y[left_mask], node.left)\n",
        "    rss_right = compute_total_rss(X[right_mask], y[right_mask], node.right)\n",
        "\n",
        "    return rss_left + rss_right"
      ],
      "metadata": {
        "id": "E5bdZBR1jGqO"
      },
      "id": "E5bdZBR1jGqO",
      "execution_count": 19,
      "outputs": []
    },
    {
      "cell_type": "code",
      "source": [
        "def build_tree_rss_gain(X, y, max_depth=3, depth=0):\n",
        "    if depth >= max_depth:\n",
        "        return TreeNode(prediction=np.mean(y))\n",
        "\n",
        "    feature, value, split_rss_gain = best_split_rss_gain(X, y)\n",
        "\n",
        "    if feature is None:\n",
        "        return TreeNode(prediction=np.mean(y))\n",
        "\n",
        "    left_mask = X[:, feature] <= value\n",
        "    right_mask = ~left_mask\n",
        "\n",
        "    left = build_tree_rss_gain(X[left_mask], y[left_mask], max_depth, depth + 1)\n",
        "    right = build_tree_rss_gain(X[right_mask], y[right_mask], max_depth, depth + 1)\n",
        "\n",
        "    return TreeNode(feature=feature, value=value, left=left, right=right)"
      ],
      "metadata": {
        "id": "f9Gh-WcxhjfV"
      },
      "id": "f9Gh-WcxhjfV",
      "execution_count": 11,
      "outputs": []
    },
    {
      "cell_type": "code",
      "source": [
        "def build_tree_total_rss(X, y, max_depth=2, depth=0):\n",
        "    if depth >= max_depth:\n",
        "        return TreeNode(prediction=np.mean(y))\n",
        "\n",
        "    best_tree = None\n",
        "    best_rss_total = float('inf')\n",
        "\n",
        "    for feature_idx in range(X.shape[1]):\n",
        "        values = np.unique(X[:, feature_idx])\n",
        "\n",
        "        for val in values:\n",
        "            left_mask = X[:, feature_idx] <= val\n",
        "            right_mask = ~left_mask\n",
        "\n",
        "            y_left, y_right = y[left_mask], y[right_mask]\n",
        "            X_left, X_right = X[left_mask], X[right_mask]\n",
        "\n",
        "            # Skip empty splits\n",
        "            if len(y_left) == 0 or len(y_right) == 0:\n",
        "                continue\n",
        "\n",
        "            # Build subtrees recursively\n",
        "            left_tree = build_tree_total_rss(X_left, y_left, max_depth, depth + 1)\n",
        "            right_tree = build_tree_total_rss(X_right, y_right, max_depth, depth + 1)\n",
        "\n",
        "            # Compute total RSS of whole tree\n",
        "            rss_left = compute_total_rss(X_left, y_left, left_tree)\n",
        "            rss_right = compute_total_rss(X_right, y_right, right_tree)\n",
        "            rss_total = rss_left + rss_right\n",
        "\n",
        "            if rss_total < best_rss_total:\n",
        "                best_rss_total = rss_total\n",
        "                best_tree = TreeNode(\n",
        "                    feature=feature_idx,\n",
        "                    value=val,\n",
        "                    left=left_tree,\n",
        "                    right=right_tree\n",
        "                )\n",
        "\n",
        "    # If no good split, return a leaf\n",
        "    if best_tree is None:\n",
        "        return TreeNode(prediction=np.mean(y))\n",
        "\n",
        "    return best_tree\n"
      ],
      "metadata": {
        "id": "od65IICCjDc-"
      },
      "id": "od65IICCjDc-",
      "execution_count": 18,
      "outputs": []
    },
    {
      "cell_type": "code",
      "source": [
        "def predict_one(x, node):\n",
        "    while node.prediction is None:\n",
        "        if x[node.feature] <= node.value:\n",
        "            node = node.left\n",
        "        else:\n",
        "            node = node.right\n",
        "    return node.prediction\n",
        "\n",
        "def predict(X, tree):\n",
        "    return np.array([predict_one(x, tree) for x in X])"
      ],
      "metadata": {
        "id": "-37Cz2HJiLLw"
      },
      "id": "-37Cz2HJiLLw",
      "execution_count": 12,
      "outputs": []
    },
    {
      "cell_type": "code",
      "source": [
        "df_nump = df.to_numpy()\n",
        "X_train, y_train, X_test, y_test = df_nump[:30, :-1], df_nump[:30, -1], df_nump[:20, :-1], df_nump[:20, -1]"
      ],
      "metadata": {
        "id": "FKqmV1gzoF7a"
      },
      "id": "FKqmV1gzoF7a",
      "execution_count": 41,
      "outputs": []
    },
    {
      "cell_type": "code",
      "source": [
        "X_train.shape, y_train.shape, X_test.shape, y_test.shape\n",
        "from sklearn.preprocessing import StandardScaler\n",
        "scaler = StandardScaler()\n",
        "X_train = scaler.fit_transform(X_train)\n",
        "X_test = scaler.transform(X_test)"
      ],
      "metadata": {
        "id": "ZpbkjiEKtgZd"
      },
      "id": "ZpbkjiEKtgZd",
      "execution_count": 14,
      "outputs": []
    },
    {
      "cell_type": "code",
      "source": [
        "tree = build_tree_rss_gain(X_train, y_train, max_depth=2)\n",
        "y_pred = predict(X_test, tree)\n",
        "mse = mean_squared_error(y_test, y_pred)\n",
        "round(mse**(1/2), 0)"
      ],
      "metadata": {
        "id": "R_4rfs2FiWaL",
        "outputId": "84e9a4e7-f676-414a-bd90-b267a63aec7d",
        "colab": {
          "base_uri": "https://localhost:8080/"
        }
      },
      "id": "R_4rfs2FiWaL",
      "execution_count": 28,
      "outputs": [
        {
          "output_type": "execute_result",
          "data": {
            "text/plain": [
              "35423.0"
            ]
          },
          "metadata": {},
          "execution_count": 28
        }
      ]
    },
    {
      "cell_type": "code",
      "source": [
        "from sklearn.tree import DecisionTreeRegressor\n",
        "\n",
        "drzewo_local_rss = DecisionTreeRegressor(max_depth=2)\n",
        "drzewo_local_rss.fit(X_train, y_train)\n",
        "y_pred =drzewo_local_rss.predict(X_test)\n",
        "mse = mean_squared_error(y_test, y_pred)\n",
        "round(mse**(1/2), 0)"
      ],
      "metadata": {
        "id": "VQEc7lkUqFg_",
        "outputId": "51f68531-bb9f-4c43-b375-4d18709388a3",
        "colab": {
          "base_uri": "https://localhost:8080/"
        }
      },
      "id": "VQEc7lkUqFg_",
      "execution_count": 44,
      "outputs": [
        {
          "output_type": "execute_result",
          "data": {
            "text/plain": [
              "33330.0"
            ]
          },
          "metadata": {},
          "execution_count": 44
        }
      ]
    },
    {
      "cell_type": "code",
      "source": [
        "tree = build_tree_total_rss(X_train, y_train, max_depth=2)\n",
        "y_pred = predict(X_test, tree)\n",
        "\n",
        "from sklearn.metrics import mean_squared_error\n",
        "print(\"Total RSS Tree RMSE:\", mean_squared_error(y_test, y_pred)**(1/2))"
      ],
      "metadata": {
        "id": "5GEdxRD3jTmP",
        "outputId": "ee101d4c-73fd-4b91-b26b-e2e06e8c9e1e",
        "colab": {
          "base_uri": "https://localhost:8080/"
        }
      },
      "id": "5GEdxRD3jTmP",
      "execution_count": 43,
      "outputs": [
        {
          "output_type": "stream",
          "name": "stdout",
          "text": [
            "Total RSS Tree RMSE: 33330.332536597125\n"
          ]
        }
      ]
    },
    {
      "cell_type": "code",
      "source": [
        "from sklearn.tree import DecisionTreeRegressor\n",
        "\n",
        "drzewo_local_rss = DecisionTreeRegressor(max_depth=3)\n",
        "drzewo_local_rss.fit(X_train, y_train)\n",
        "y_pred =drzewo_local_rss.predict(X_test)\n",
        "mse = mean_squared_error(y_test, y_pred)\n",
        "round(mse**(1/2), 0)"
      ],
      "metadata": {
        "id": "padI0sMirJXW",
        "outputId": "041d10bc-86be-44e6-8798-6a9700cc34eb",
        "colab": {
          "base_uri": "https://localhost:8080/"
        }
      },
      "id": "padI0sMirJXW",
      "execution_count": 45,
      "outputs": [
        {
          "output_type": "execute_result",
          "data": {
            "text/plain": [
              "17275.0"
            ]
          },
          "metadata": {},
          "execution_count": 45
        }
      ]
    },
    {
      "cell_type": "code",
      "source": [
        "tree = build_tree_total_rss(X_train, y_train, max_depth=3)\n",
        "y_pred = predict(X_test, tree)\n",
        "\n",
        "from sklearn.metrics import mean_squared_error\n",
        "print(\"Total RSS Tree RMSE:\", mean_squared_error(y_test, y_pred)**(1/2))"
      ],
      "metadata": {
        "id": "VzxdVySamznv",
        "outputId": "6607aa01-b241-46ae-d856-7ef9922cdace",
        "colab": {
          "base_uri": "https://localhost:8080/"
        }
      },
      "id": "VzxdVySamznv",
      "execution_count": 46,
      "outputs": [
        {
          "output_type": "stream",
          "name": "stdout",
          "text": [
            "Total RSS Tree RMSE: 17697.79749574499\n"
          ]
        }
      ]
    },
    {
      "cell_type": "code",
      "source": [],
      "metadata": {
        "id": "z8JaSZMYra34"
      },
      "id": "z8JaSZMYra34",
      "execution_count": null,
      "outputs": []
    }
  ],
  "metadata": {
    "colab": {
      "provenance": [],
      "include_colab_link": true
    },
    "language_info": {
      "name": "python"
    },
    "kernelspec": {
      "name": "python3",
      "display_name": "Python 3"
    }
  },
  "nbformat": 4,
  "nbformat_minor": 5
}