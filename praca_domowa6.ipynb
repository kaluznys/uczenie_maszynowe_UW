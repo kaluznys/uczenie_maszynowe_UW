{
  "cells": [
    {
      "cell_type": "markdown",
      "metadata": {
        "id": "view-in-github",
        "colab_type": "text"
      },
      "source": [
        "<a href=\"https://colab.research.google.com/github/kaluznys/uczenie_maszynowe_UW/blob/main/praca_domowa6.ipynb\" target=\"_parent\"><img src=\"https://colab.research.google.com/assets/colab-badge.svg\" alt=\"Open In Colab\"/></a>"
      ]
    },
    {
      "cell_type": "markdown",
      "source": [
        "# **Homework Assignment: Understanding Splitting Criteria in CART for Regression**\n",
        "---------------------\n",
        "\n",
        "In this assignment, you will explore three common formulations of the splitting criterion used in **CART (Classification and Regression Trees)** for **regression problems**:\n",
        "\n",
        "1. **Local RSS Minimization**  \n",
        "2. **RSS Gain Maximization**  \n",
        "3. **Total RSS Minimization**\n",
        "\n",
        "You will investigate whether any of these criteria are equivalent, and you will design an experiment to determine which criterion is actually employed in a standard implementation such as **scikit-learn’s DecisionTreeRegressor**.\n",
        "\n",
        "\n",
        "\n",
        "## **The Problem**\n",
        "\n",
        "Many treatments of CART for regression describe the split selection process in different ways. Below are three frequently cited formulations. Suppose we have a dataset with features $X$ and target $y$, and we seek to choose a feature $X_j$ and a threshold $t$ to split the data into two regions $R_1(X_j, t)$ and $R_2(X_j, t)$. Denote by $\\bar{y}_{R_m}$ the mean of targets within region $R_m$.\n",
        "\n",
        "1. **Local RSS Minimization**  \n",
        "   We select the feature and threshold that minimize the **sum of squared errors** in the two resulting child nodes:\n",
        "   $$\n",
        "   (X_j^*, t^*) = \\arg\\min_{X_j, t} \\sum_{m=1}^{2} \\sum_{i : x_i \\in R_m(X_j, t)} (y_i - \\bar{y}_{R_m})^2.\n",
        "   $$\n",
        "\n",
        "2. **RSS Gain Maximization**  \n",
        "\n",
        "   It is also a local method, looking only at a parent and two child nodes.\n",
        "\n",
        "   We select the feature and threshold that maximize the **reduction** in RSS, computed by subtracting the RSS of the two child nodes from the RSS in the parent node:\n",
        "   $$\n",
        "   (X_j^*, t^*) = \\arg\\max_{X_j, t} \\Bigl\\{\n",
        "   \\underbrace{\\sum_{i : x_i \\in \\text{Parent}} (y_i - \\bar{y})^2}_{\\text{Parent RSS}}\n",
        "   \\;-\\;\n",
        "   \\underbrace{\\sum_{m=1}^{2} \\sum_{i : x_i \\in R_m(X_j, t)} (y_i - \\bar{y}_{R_m})^2}_{\\text{Children RSS}}\n",
        "   \\Bigr\\}.\n",
        "   $$\n",
        "\n",
        "3. **Total RSS Minimization**  \n",
        "   For a dataset $\\{(x_i, y_i)\\}_{i=1}^N$ with features $X$ and target $y$, let $T$ be the current tree.\n",
        "\n",
        "   For any split on feature $X_j$ at threshold $t$, define $T(X_j, t)$ as the new tree obtained by splitting one leaf of $T$ into two leaves $R_1(X_j, t)$ and $R_2(X_j, t)$.\n",
        "   \n",
        "   Let $\\mathrm{Leaves}(T(X_j, t))$ be the set of all leaf indices in this new tree. For each leaf $m \\in \\mathrm{Leaves}(T(X_j, t))$, define:\n",
        "   $$\n",
        "   R_m = \\{\\, i \\,\\mid\\, x_i \\text{ ends in leaf } m\\}.\n",
        "   $$\n",
        "\n",
        "   $R_m$ set collects all data indices $i$ whose feature vector $x_i$ is classified into the leaf node $m$ when passed through the tree $T(X_j,t)$. In other words, each leaf node $m$ in $T(X_j, t)$ corresponds to a unique path of splits, and any data point $x_i$ that follows that path is assigned to the leaf $m$; hence, it belongs to $R_m$.\n",
        "\n",
        "   $R_m$ sets for all leafs $m \\in \\mathrm{Leaves}(T(X_j, t))$ define a partition of all indices.\n",
        "\n",
        "   Then the objective of **minimizing total Residual Sum of Squares (total RSS)** is stated as:\n",
        "   $$\n",
        "   (X_j^*, t^*) = \\arg\\min_{(X_j, t)} \\sum_{m \\in \\mathrm{Leaves}(T(X_j, t))}\n",
        "   \\sum_{i \\in R_m} \\Bigl(y_i - \\overline{y}_{R_m}\\Bigr)^2,\n",
        "   $$\n",
        "   where\n",
        "   $$\n",
        "   \\overline{y}_{R_m} = \\frac{1}{\\lvert R_m \\rvert}\n",
        "   \\sum_{i \\in R_m} y_i\n",
        "   $$\n",
        "   is the mean response in leaf $m$.\n",
        "\n",
        "\n",
        "## **Research Questions**\n",
        "\n",
        "1. **Equivalence Analysis**  \n",
        "   Determine whether the above formulations are equivalent or if they can yield different split choices. Specifically:\n",
        "   - Are *local RSS minimization* and *RSS gain maximization* equivalent?\n",
        "   - Does *total RSS minimization* coincide with either of these two, or is it distinct?\n",
        "   \n",
        "2. **Empirical Experiment**  \n",
        "   Design and conduct a Python experiment to determine which of these formulations is implemented in `scikit-learn` in `DecisionTreeRegressor`. Present numerical results and plots to support your conclusion.\n",
        "\n",
        "\n",
        "## **Tasks & Deliverables**\n",
        "\n",
        "1. **Formulation Analysis**  \n",
        "   - Compare *local RSS minimization*, *RSS gain maximization*, and *total RSS minimization*.\n",
        "   - If you find that any pair of formulations is equivalent, provide a concise proof.  \n",
        "   - If you find that they differ, construct a counterexample.\n",
        "\n",
        "2. **Empirical Verification**  \n",
        "   - Create a small artificial dataset and train a `DecisionTreeRegressor` from `scikit-learn`.\n",
        "   - The dataset must be designed in a way that uniquely identifies the formulation used. Provide a short code snippet and a plot or table to support your conclusion.\n",
        "\n",
        "3. **Report**  \n",
        "   - Summarize your theoretical insights and empirical findings in a **Colab notebook**.\n",
        "   - Include the relevant proofs, code, discussion, and conclusions.\n",
        "   - Place the notebook in your **GitHub repository** for this course, add a link to it in your README.md and add an **“Open in Colab”** badge in the notebook so it can be launched directly.\n",
        "\n"
      ],
      "metadata": {
        "id": "CiiBWLwyz6PI"
      },
      "id": "CiiBWLwyz6PI"
    },
    {
      "cell_type": "code",
      "source": [
        "import pandas as pd\n",
        "import numpy as np\n",
        "import matplotlib.pyplot as plt\n",
        "from sklearn.tree import DecisionTreeRegressor\n",
        "from sklearn.model_selection import train_test_split\n",
        "from sklearn.metrics import mean_squared_error"
      ],
      "metadata": {
        "id": "riXsgF53_dk9"
      },
      "id": "riXsgF53_dk9",
      "execution_count": null,
      "outputs": []
    },
    {
      "cell_type": "code",
      "source": [
        "np.random.seed(42)\n",
        "n_samples=50\n",
        "ages = np.random.randint(20, 70, size=n_samples)\n",
        "incomes = np.random.normal(loc=60000, scale=15000, size=n_samples).astype(int)\n",
        "house_sizes = np.random.normal(loc=50, scale=15, size=n_samples).astype(int)\n",
        "nr_of_houses = np.random.poisson(lam=1, size=n_samples)\n",
        "nr_of_houses  = np.ceil(nr_of_houses)+1\n",
        "locations = np.random.choice(['urban', 'suburban', 'rural'], size=n_samples)"
      ],
      "metadata": {
        "id": "VdB6Jgt8-kr4"
      },
      "id": "VdB6Jgt8-kr4",
      "execution_count": null,
      "outputs": []
    },
    {
      "cell_type": "code",
      "source": [
        "df = pd.DataFrame({\n",
        "    'Age': ages,\n",
        "    'Income': incomes,\n",
        "    'HouseSize': house_sizes,\n",
        "    'NrOfHouses': nr_of_houses,\n",
        "    'Location': locations,\n",
        "})\n",
        "df = pd.get_dummies(df, \"location\")"
      ],
      "metadata": {
        "id": "SK1fp56rCS9f"
      },
      "id": "SK1fp56rCS9f",
      "execution_count": null,
      "outputs": []
    },
    {
      "cell_type": "code",
      "source": [
        "house_prices = (\n",
        "    50000 +\n",
        "    (ages * -100) +\n",
        "    (incomes * 0.5) +\n",
        "    (house_sizes * 4800) +\n",
        "    (nr_of_houses * 10000) +\n",
        "    (df.location_rural*-50000) +\n",
        "    (df.location_suburban*30000)+\n",
        "    (df.location_urban*-30000) +\n",
        "    np.random.normal(0, 30000, size=n_samples)\n",
        ")\n",
        "df['price'] = house_prices\n",
        "df.head()"
      ],
      "metadata": {
        "id": "2ocbVyLqBCEA",
        "outputId": "a87d653e-228a-4e08-88e5-f49f495a0028",
        "colab": {
          "base_uri": "https://localhost:8080/",
          "height": 206
        }
      },
      "id": "2ocbVyLqBCEA",
      "execution_count": null,
      "outputs": [
        {
          "output_type": "execute_result",
          "data": {
            "text/plain": [
              "   Age  Income  HouseSize  NrOfHouses  location_rural  location_suburban  \\\n",
              "0   58   64365         41         2.0            True              False   \n",
              "1   48   50466         27         2.0           False               True   \n",
              "2   34   44676         38         1.0           False               True   \n",
              "3   62   57573         61         1.0           False               True   \n",
              "4   27   51995         46         3.0           False              False   \n",
              "\n",
              "   location_urban          price  \n",
              "0           False  224728.489667  \n",
              "1           False  313372.529248  \n",
              "2           False  311943.455383  \n",
              "3           False  407515.672469  \n",
              "4            True  307277.314203  "
            ],
            "text/html": [
              "\n",
              "  <div id=\"df-2486aeb6-ad39-464b-83b6-9fb4d5dc33e8\" class=\"colab-df-container\">\n",
              "    <div>\n",
              "<style scoped>\n",
              "    .dataframe tbody tr th:only-of-type {\n",
              "        vertical-align: middle;\n",
              "    }\n",
              "\n",
              "    .dataframe tbody tr th {\n",
              "        vertical-align: top;\n",
              "    }\n",
              "\n",
              "    .dataframe thead th {\n",
              "        text-align: right;\n",
              "    }\n",
              "</style>\n",
              "<table border=\"1\" class=\"dataframe\">\n",
              "  <thead>\n",
              "    <tr style=\"text-align: right;\">\n",
              "      <th></th>\n",
              "      <th>Age</th>\n",
              "      <th>Income</th>\n",
              "      <th>HouseSize</th>\n",
              "      <th>NrOfHouses</th>\n",
              "      <th>location_rural</th>\n",
              "      <th>location_suburban</th>\n",
              "      <th>location_urban</th>\n",
              "      <th>price</th>\n",
              "    </tr>\n",
              "  </thead>\n",
              "  <tbody>\n",
              "    <tr>\n",
              "      <th>0</th>\n",
              "      <td>58</td>\n",
              "      <td>64365</td>\n",
              "      <td>41</td>\n",
              "      <td>2.0</td>\n",
              "      <td>True</td>\n",
              "      <td>False</td>\n",
              "      <td>False</td>\n",
              "      <td>224728.489667</td>\n",
              "    </tr>\n",
              "    <tr>\n",
              "      <th>1</th>\n",
              "      <td>48</td>\n",
              "      <td>50466</td>\n",
              "      <td>27</td>\n",
              "      <td>2.0</td>\n",
              "      <td>False</td>\n",
              "      <td>True</td>\n",
              "      <td>False</td>\n",
              "      <td>313372.529248</td>\n",
              "    </tr>\n",
              "    <tr>\n",
              "      <th>2</th>\n",
              "      <td>34</td>\n",
              "      <td>44676</td>\n",
              "      <td>38</td>\n",
              "      <td>1.0</td>\n",
              "      <td>False</td>\n",
              "      <td>True</td>\n",
              "      <td>False</td>\n",
              "      <td>311943.455383</td>\n",
              "    </tr>\n",
              "    <tr>\n",
              "      <th>3</th>\n",
              "      <td>62</td>\n",
              "      <td>57573</td>\n",
              "      <td>61</td>\n",
              "      <td>1.0</td>\n",
              "      <td>False</td>\n",
              "      <td>True</td>\n",
              "      <td>False</td>\n",
              "      <td>407515.672469</td>\n",
              "    </tr>\n",
              "    <tr>\n",
              "      <th>4</th>\n",
              "      <td>27</td>\n",
              "      <td>51995</td>\n",
              "      <td>46</td>\n",
              "      <td>3.0</td>\n",
              "      <td>False</td>\n",
              "      <td>False</td>\n",
              "      <td>True</td>\n",
              "      <td>307277.314203</td>\n",
              "    </tr>\n",
              "  </tbody>\n",
              "</table>\n",
              "</div>\n",
              "    <div class=\"colab-df-buttons\">\n",
              "\n",
              "  <div class=\"colab-df-container\">\n",
              "    <button class=\"colab-df-convert\" onclick=\"convertToInteractive('df-2486aeb6-ad39-464b-83b6-9fb4d5dc33e8')\"\n",
              "            title=\"Convert this dataframe to an interactive table.\"\n",
              "            style=\"display:none;\">\n",
              "\n",
              "  <svg xmlns=\"http://www.w3.org/2000/svg\" height=\"24px\" viewBox=\"0 -960 960 960\">\n",
              "    <path d=\"M120-120v-720h720v720H120Zm60-500h600v-160H180v160Zm220 220h160v-160H400v160Zm0 220h160v-160H400v160ZM180-400h160v-160H180v160Zm440 0h160v-160H620v160ZM180-180h160v-160H180v160Zm440 0h160v-160H620v160Z\"/>\n",
              "  </svg>\n",
              "    </button>\n",
              "\n",
              "  <style>\n",
              "    .colab-df-container {\n",
              "      display:flex;\n",
              "      gap: 12px;\n",
              "    }\n",
              "\n",
              "    .colab-df-convert {\n",
              "      background-color: #E8F0FE;\n",
              "      border: none;\n",
              "      border-radius: 50%;\n",
              "      cursor: pointer;\n",
              "      display: none;\n",
              "      fill: #1967D2;\n",
              "      height: 32px;\n",
              "      padding: 0 0 0 0;\n",
              "      width: 32px;\n",
              "    }\n",
              "\n",
              "    .colab-df-convert:hover {\n",
              "      background-color: #E2EBFA;\n",
              "      box-shadow: 0px 1px 2px rgba(60, 64, 67, 0.3), 0px 1px 3px 1px rgba(60, 64, 67, 0.15);\n",
              "      fill: #174EA6;\n",
              "    }\n",
              "\n",
              "    .colab-df-buttons div {\n",
              "      margin-bottom: 4px;\n",
              "    }\n",
              "\n",
              "    [theme=dark] .colab-df-convert {\n",
              "      background-color: #3B4455;\n",
              "      fill: #D2E3FC;\n",
              "    }\n",
              "\n",
              "    [theme=dark] .colab-df-convert:hover {\n",
              "      background-color: #434B5C;\n",
              "      box-shadow: 0px 1px 3px 1px rgba(0, 0, 0, 0.15);\n",
              "      filter: drop-shadow(0px 1px 2px rgba(0, 0, 0, 0.3));\n",
              "      fill: #FFFFFF;\n",
              "    }\n",
              "  </style>\n",
              "\n",
              "    <script>\n",
              "      const buttonEl =\n",
              "        document.querySelector('#df-2486aeb6-ad39-464b-83b6-9fb4d5dc33e8 button.colab-df-convert');\n",
              "      buttonEl.style.display =\n",
              "        google.colab.kernel.accessAllowed ? 'block' : 'none';\n",
              "\n",
              "      async function convertToInteractive(key) {\n",
              "        const element = document.querySelector('#df-2486aeb6-ad39-464b-83b6-9fb4d5dc33e8');\n",
              "        const dataTable =\n",
              "          await google.colab.kernel.invokeFunction('convertToInteractive',\n",
              "                                                    [key], {});\n",
              "        if (!dataTable) return;\n",
              "\n",
              "        const docLinkHtml = 'Like what you see? Visit the ' +\n",
              "          '<a target=\"_blank\" href=https://colab.research.google.com/notebooks/data_table.ipynb>data table notebook</a>'\n",
              "          + ' to learn more about interactive tables.';\n",
              "        element.innerHTML = '';\n",
              "        dataTable['output_type'] = 'display_data';\n",
              "        await google.colab.output.renderOutput(dataTable, element);\n",
              "        const docLink = document.createElement('div');\n",
              "        docLink.innerHTML = docLinkHtml;\n",
              "        element.appendChild(docLink);\n",
              "      }\n",
              "    </script>\n",
              "  </div>\n",
              "\n",
              "\n",
              "<div id=\"df-717b4918-99f9-498f-8661-4112f8474a9b\">\n",
              "  <button class=\"colab-df-quickchart\" onclick=\"quickchart('df-717b4918-99f9-498f-8661-4112f8474a9b')\"\n",
              "            title=\"Suggest charts\"\n",
              "            style=\"display:none;\">\n",
              "\n",
              "<svg xmlns=\"http://www.w3.org/2000/svg\" height=\"24px\"viewBox=\"0 0 24 24\"\n",
              "     width=\"24px\">\n",
              "    <g>\n",
              "        <path d=\"M19 3H5c-1.1 0-2 .9-2 2v14c0 1.1.9 2 2 2h14c1.1 0 2-.9 2-2V5c0-1.1-.9-2-2-2zM9 17H7v-7h2v7zm4 0h-2V7h2v10zm4 0h-2v-4h2v4z\"/>\n",
              "    </g>\n",
              "</svg>\n",
              "  </button>\n",
              "\n",
              "<style>\n",
              "  .colab-df-quickchart {\n",
              "      --bg-color: #E8F0FE;\n",
              "      --fill-color: #1967D2;\n",
              "      --hover-bg-color: #E2EBFA;\n",
              "      --hover-fill-color: #174EA6;\n",
              "      --disabled-fill-color: #AAA;\n",
              "      --disabled-bg-color: #DDD;\n",
              "  }\n",
              "\n",
              "  [theme=dark] .colab-df-quickchart {\n",
              "      --bg-color: #3B4455;\n",
              "      --fill-color: #D2E3FC;\n",
              "      --hover-bg-color: #434B5C;\n",
              "      --hover-fill-color: #FFFFFF;\n",
              "      --disabled-bg-color: #3B4455;\n",
              "      --disabled-fill-color: #666;\n",
              "  }\n",
              "\n",
              "  .colab-df-quickchart {\n",
              "    background-color: var(--bg-color);\n",
              "    border: none;\n",
              "    border-radius: 50%;\n",
              "    cursor: pointer;\n",
              "    display: none;\n",
              "    fill: var(--fill-color);\n",
              "    height: 32px;\n",
              "    padding: 0;\n",
              "    width: 32px;\n",
              "  }\n",
              "\n",
              "  .colab-df-quickchart:hover {\n",
              "    background-color: var(--hover-bg-color);\n",
              "    box-shadow: 0 1px 2px rgba(60, 64, 67, 0.3), 0 1px 3px 1px rgba(60, 64, 67, 0.15);\n",
              "    fill: var(--button-hover-fill-color);\n",
              "  }\n",
              "\n",
              "  .colab-df-quickchart-complete:disabled,\n",
              "  .colab-df-quickchart-complete:disabled:hover {\n",
              "    background-color: var(--disabled-bg-color);\n",
              "    fill: var(--disabled-fill-color);\n",
              "    box-shadow: none;\n",
              "  }\n",
              "\n",
              "  .colab-df-spinner {\n",
              "    border: 2px solid var(--fill-color);\n",
              "    border-color: transparent;\n",
              "    border-bottom-color: var(--fill-color);\n",
              "    animation:\n",
              "      spin 1s steps(1) infinite;\n",
              "  }\n",
              "\n",
              "  @keyframes spin {\n",
              "    0% {\n",
              "      border-color: transparent;\n",
              "      border-bottom-color: var(--fill-color);\n",
              "      border-left-color: var(--fill-color);\n",
              "    }\n",
              "    20% {\n",
              "      border-color: transparent;\n",
              "      border-left-color: var(--fill-color);\n",
              "      border-top-color: var(--fill-color);\n",
              "    }\n",
              "    30% {\n",
              "      border-color: transparent;\n",
              "      border-left-color: var(--fill-color);\n",
              "      border-top-color: var(--fill-color);\n",
              "      border-right-color: var(--fill-color);\n",
              "    }\n",
              "    40% {\n",
              "      border-color: transparent;\n",
              "      border-right-color: var(--fill-color);\n",
              "      border-top-color: var(--fill-color);\n",
              "    }\n",
              "    60% {\n",
              "      border-color: transparent;\n",
              "      border-right-color: var(--fill-color);\n",
              "    }\n",
              "    80% {\n",
              "      border-color: transparent;\n",
              "      border-right-color: var(--fill-color);\n",
              "      border-bottom-color: var(--fill-color);\n",
              "    }\n",
              "    90% {\n",
              "      border-color: transparent;\n",
              "      border-bottom-color: var(--fill-color);\n",
              "    }\n",
              "  }\n",
              "</style>\n",
              "\n",
              "  <script>\n",
              "    async function quickchart(key) {\n",
              "      const quickchartButtonEl =\n",
              "        document.querySelector('#' + key + ' button');\n",
              "      quickchartButtonEl.disabled = true;  // To prevent multiple clicks.\n",
              "      quickchartButtonEl.classList.add('colab-df-spinner');\n",
              "      try {\n",
              "        const charts = await google.colab.kernel.invokeFunction(\n",
              "            'suggestCharts', [key], {});\n",
              "      } catch (error) {\n",
              "        console.error('Error during call to suggestCharts:', error);\n",
              "      }\n",
              "      quickchartButtonEl.classList.remove('colab-df-spinner');\n",
              "      quickchartButtonEl.classList.add('colab-df-quickchart-complete');\n",
              "    }\n",
              "    (() => {\n",
              "      let quickchartButtonEl =\n",
              "        document.querySelector('#df-717b4918-99f9-498f-8661-4112f8474a9b button');\n",
              "      quickchartButtonEl.style.display =\n",
              "        google.colab.kernel.accessAllowed ? 'block' : 'none';\n",
              "    })();\n",
              "  </script>\n",
              "</div>\n",
              "\n",
              "    </div>\n",
              "  </div>\n"
            ],
            "application/vnd.google.colaboratory.intrinsic+json": {
              "type": "dataframe",
              "variable_name": "df",
              "summary": "{\n  \"name\": \"df\",\n  \"rows\": 50,\n  \"fields\": [\n    {\n      \"column\": \"Age\",\n      \"properties\": {\n        \"dtype\": \"number\",\n        \"std\": 13,\n        \"min\": 21,\n        \"max\": 69,\n        \"num_unique_values\": 35,\n        \"samples\": [\n          66,\n          41,\n          47\n        ],\n        \"semantic_type\": \"\",\n        \"description\": \"\"\n      }\n    },\n    {\n      \"column\": \"Income\",\n      \"properties\": {\n        \"dtype\": \"number\",\n        \"std\": 15671,\n        \"min\": 36250,\n        \"max\": 110584,\n        \"num_unique_values\": 50,\n        \"samples\": [\n          73226,\n          71933,\n          57334\n        ],\n        \"semantic_type\": \"\",\n        \"description\": \"\"\n      }\n    },\n    {\n      \"column\": \"HouseSize\",\n      \"properties\": {\n        \"dtype\": \"number\",\n        \"std\": 13,\n        \"min\": 10,\n        \"max\": 71,\n        \"num_unique_values\": 31,\n        \"samples\": [\n          40,\n          69,\n          49\n        ],\n        \"semantic_type\": \"\",\n        \"description\": \"\"\n      }\n    },\n    {\n      \"column\": \"NrOfHouses\",\n      \"properties\": {\n        \"dtype\": \"number\",\n        \"std\": 1.1065666703449764,\n        \"min\": 1.0,\n        \"max\": 5.0,\n        \"num_unique_values\": 5,\n        \"samples\": [\n          1.0,\n          5.0,\n          3.0\n        ],\n        \"semantic_type\": \"\",\n        \"description\": \"\"\n      }\n    },\n    {\n      \"column\": \"location_rural\",\n      \"properties\": {\n        \"dtype\": \"boolean\",\n        \"num_unique_values\": 2,\n        \"samples\": [\n          false,\n          true\n        ],\n        \"semantic_type\": \"\",\n        \"description\": \"\"\n      }\n    },\n    {\n      \"column\": \"location_suburban\",\n      \"properties\": {\n        \"dtype\": \"boolean\",\n        \"num_unique_values\": 2,\n        \"samples\": [\n          true,\n          false\n        ],\n        \"semantic_type\": \"\",\n        \"description\": \"\"\n      }\n    },\n    {\n      \"column\": \"location_urban\",\n      \"properties\": {\n        \"dtype\": \"boolean\",\n        \"num_unique_values\": 2,\n        \"samples\": [\n          true,\n          false\n        ],\n        \"semantic_type\": \"\",\n        \"description\": \"\"\n      }\n    },\n    {\n      \"column\": \"price\",\n      \"properties\": {\n        \"dtype\": \"number\",\n        \"std\": 91134.01066341007,\n        \"min\": 120576.46373577169,\n        \"max\": 530031.4454970015,\n        \"num_unique_values\": 50,\n        \"samples\": [\n          462289.50742387114,\n          326363.29464630276\n        ],\n        \"semantic_type\": \"\",\n        \"description\": \"\"\n      }\n    }\n  ]\n}"
            }
          },
          "metadata": {},
          "execution_count": 32
        }
      ]
    },
    {
      "cell_type": "code",
      "source": [
        "def rss(y):\n",
        "    if len(y) == 0:\n",
        "        return 0\n",
        "    return np.sum((y - np.mean(y)) ** 2)"
      ],
      "metadata": {
        "id": "UlYyA5gVDkB2"
      },
      "id": "UlYyA5gVDkB2",
      "execution_count": null,
      "outputs": []
    },
    {
      "cell_type": "code",
      "source": [
        "class TreeNode:\n",
        "    def __init__(self, feature=None, value=None, left=None, right=None, prediction=None):\n",
        "        self.feature = feature\n",
        "        self.value = value\n",
        "        self.left = left\n",
        "        self.right = right\n",
        "        self.prediction = prediction"
      ],
      "metadata": {
        "id": "kQRRljpegnMQ"
      },
      "id": "kQRRljpegnMQ",
      "execution_count": null,
      "outputs": []
    },
    {
      "cell_type": "code",
      "source": [
        "def best_split_rss_gain(X, y):\n",
        "    best_feature, best_value = None, None\n",
        "    best_rss = float('-inf')\n",
        "\n",
        "    for feature_idx in range(X.shape[1]):\n",
        "        values = np.unique(X[:, feature_idx])\n",
        "        split_candidates = (values[:-1] + values[1:]) / 2\n",
        "        for val in split_candidates:\n",
        "          left_mask = X[:, feature_idx] <= val\n",
        "          right_mask = ~left_mask\n",
        "          if left_mask.sum() == 0 or right_mask.sum() == 0:\n",
        "              continue\n",
        "\n",
        "          y_left, y_right = y[left_mask], y[right_mask]\n",
        "\n",
        "          rss_gain = rss(y)-(rss(y_left) + rss(y_right))  # Local RSS\n",
        "\n",
        "          if rss_gain > best_rss and rss_gain>0:\n",
        "              best_rss = rss_gain\n",
        "              best_feature = feature_idx\n",
        "              best_value = val\n",
        "\n",
        "    return best_feature, best_value, best_rss"
      ],
      "metadata": {
        "id": "qIZTnhCxg3T4"
      },
      "id": "qIZTnhCxg3T4",
      "execution_count": 106,
      "outputs": []
    },
    {
      "cell_type": "code",
      "source": [
        "def compute_total_rss(X, y, node):\n",
        "    if node.prediction is not None:\n",
        "        return rss(y)\n",
        "\n",
        "    left_mask = X[:, node.feature] <= node.value\n",
        "    right_mask = ~left_mask\n",
        "\n",
        "    rss_left = compute_total_rss(X[left_mask], y[left_mask], node.left)\n",
        "    rss_right = compute_total_rss(X[right_mask], y[right_mask], node.right)\n",
        "\n",
        "    return rss_left + rss_right"
      ],
      "metadata": {
        "id": "E5bdZBR1jGqO"
      },
      "id": "E5bdZBR1jGqO",
      "execution_count": null,
      "outputs": []
    },
    {
      "cell_type": "code",
      "source": [
        "def build_tree_rss_gain(X, y, max_depth=3, depth=0):\n",
        "    if depth >= max_depth:\n",
        "        return TreeNode(prediction=np.mean(y))\n",
        "\n",
        "    feature, value, split_rss_gain = best_split_rss_gain(X, y)\n",
        "\n",
        "    if feature is None:\n",
        "        return TreeNode(prediction=np.mean(y))\n",
        "\n",
        "    left_mask = X[:, feature] <= value\n",
        "    right_mask = ~left_mask\n",
        "\n",
        "    left = build_tree_rss_gain(X[left_mask], y[left_mask], max_depth, depth + 1)\n",
        "    right = build_tree_rss_gain(X[right_mask], y[right_mask], max_depth, depth + 1)\n",
        "\n",
        "    return TreeNode(feature=feature, value=value, left=left, right=right)"
      ],
      "metadata": {
        "id": "f9Gh-WcxhjfV"
      },
      "id": "f9Gh-WcxhjfV",
      "execution_count": null,
      "outputs": []
    },
    {
      "cell_type": "code",
      "source": [
        "def build_tree_total_rss(X, y, max_depth=2, depth=0):\n",
        "    if depth >= max_depth:\n",
        "        return TreeNode(prediction=np.mean(y))\n",
        "\n",
        "    best_tree = None\n",
        "    best_rss_total = float('inf')\n",
        "\n",
        "    for feature_idx in range(X.shape[1]):\n",
        "        values = np.unique(X[:, feature_idx])\n",
        "        split_candidates = (values[:-1] + values[1:]) / 2\n",
        "        for val in values:\n",
        "            left_mask = X[:, feature_idx] <= val\n",
        "            right_mask = ~left_mask\n",
        "\n",
        "            y_left, y_right = y[left_mask], y[right_mask]\n",
        "            X_left, X_right = X[left_mask], X[right_mask]\n",
        "\n",
        "            # Skip empty splits\n",
        "            if len(y_left) == 0 or len(y_right) == 0:\n",
        "                continue\n",
        "\n",
        "            # Build subtrees recursively\n",
        "            left_tree = build_tree_total_rss(X_left, y_left, max_depth, depth + 1)\n",
        "            right_tree = build_tree_total_rss(X_right, y_right, max_depth, depth + 1)\n",
        "\n",
        "            # Compute total RSS of whole tree\n",
        "            rss_left = compute_total_rss(X_left, y_left, left_tree)\n",
        "            rss_right = compute_total_rss(X_right, y_right, right_tree)\n",
        "            rss_total = rss_left + rss_right\n",
        "\n",
        "            if rss_total < best_rss_total:\n",
        "                best_rss_total = rss_total\n",
        "                best_tree = TreeNode(\n",
        "                    feature=feature_idx,\n",
        "                    value=val,\n",
        "                    left=left_tree,\n",
        "                    right=right_tree\n",
        "                )\n",
        "\n",
        "    # If no good split, return a leaf\n",
        "    if best_tree is None:\n",
        "        return TreeNode(prediction=np.mean(y))\n",
        "\n",
        "    return best_tree"
      ],
      "metadata": {
        "id": "od65IICCjDc-"
      },
      "id": "od65IICCjDc-",
      "execution_count": null,
      "outputs": []
    },
    {
      "cell_type": "code",
      "source": [
        "def predict_one(x, node):\n",
        "    while node.prediction is None:\n",
        "        if x[node.feature] <= node.value:\n",
        "            node = node.left\n",
        "        else:\n",
        "            node = node.right\n",
        "    return node.prediction\n",
        "\n",
        "def predict(X, tree):\n",
        "    return np.array([predict_one(x, tree) for x in X])"
      ],
      "metadata": {
        "id": "-37Cz2HJiLLw"
      },
      "id": "-37Cz2HJiLLw",
      "execution_count": null,
      "outputs": []
    },
    {
      "cell_type": "code",
      "source": [
        "df_nump = df.to_numpy()\n",
        "X_train, y_train, X_test, y_test = df_nump[30:, :-1], df_nump[30:, -1], df_nump[:20, :-1], df_nump[:20, -1]"
      ],
      "metadata": {
        "id": "FKqmV1gzoF7a"
      },
      "id": "FKqmV1gzoF7a",
      "execution_count": null,
      "outputs": []
    },
    {
      "cell_type": "code",
      "source": [
        "gain_std = [0 for i in range(2, 7)]\n",
        "gain_rmse = [0 for i in range(2, 7)]\n",
        "for i in range(2, 7):\n",
        "  tree = build_tree_rss_gain(X_train, y_train, max_depth=i)\n",
        "  y_pred = predict(X_test, tree)\n",
        "  print(\"RSS Gain Tree RMSE:\", mean_squared_error(y_test, y_pred)**(1/2))\n",
        "  gain_rmse[i-2]= round(mean_squared_error(y_test, y_pred)**(1/2),0)\n",
        "  gain_std[i-2]= round(np.var(y_pred)**(1/2),0)\n",
        "gain_rmse_std = pd.DataFrame([[gain_rmse[i],gain_std[i]] for i in range(5)])\n"
      ],
      "metadata": {
        "id": "R_4rfs2FiWaL",
        "outputId": "545c5ab2-be4c-48b1-e042-214b63a06501",
        "colab": {
          "base_uri": "https://localhost:8080/"
        }
      },
      "id": "R_4rfs2FiWaL",
      "execution_count": 107,
      "outputs": [
        {
          "output_type": "stream",
          "name": "stdout",
          "text": [
            "RSS Gain Tree RMSE: 88834.58492413964\n",
            "RSS Gain Tree RMSE: 85551.56674672324\n",
            "RSS Gain Tree RMSE: 85285.06111765814\n",
            "RSS Gain Tree RMSE: 85367.01823075642\n",
            "RSS Gain Tree RMSE: 85793.23695538972\n"
          ]
        }
      ]
    },
    {
      "cell_type": "code",
      "source": [
        "y1 = y_pred"
      ],
      "metadata": {
        "id": "HUgMIdovBU03"
      },
      "id": "HUgMIdovBU03",
      "execution_count": null,
      "outputs": []
    },
    {
      "cell_type": "code",
      "source": [
        "from sklearn.tree import DecisionTreeRegressor\n",
        "local_std = [0 for i in range(2, 7)]\n",
        "local_rmse = [0 for i in range(2, 7)]\n",
        "for i in range(2,7):\n",
        "  drzewo_local_rss = DecisionTreeRegressor(max_depth=i, random_state=42)\n",
        "  drzewo_local_rss.fit(X_train, y_train)\n",
        "  y_pred =drzewo_local_rss.predict(X_test)\n",
        "  print(\"RSS local Tree RMSE:\", mean_squared_error(y_test, y_pred)**(1/2))\n",
        "  local_rmse[i-2]= round(mean_squared_error(y_test, y_pred)**(1/2),0)\n",
        "  local_std[i-2]= round(np.var(y_pred)**(1/2),0)\n",
        "local_rmse_std = pd.DataFrame([[local_rmse[i],local_std[i]] for i in range(5)])"
      ],
      "metadata": {
        "id": "VQEc7lkUqFg_",
        "outputId": "4d073881-c63a-4621-b705-2a97a4df7d90",
        "colab": {
          "base_uri": "https://localhost:8080/"
        }
      },
      "id": "VQEc7lkUqFg_",
      "execution_count": 108,
      "outputs": [
        {
          "output_type": "stream",
          "name": "stdout",
          "text": [
            "RSS local Tree RMSE: 88834.58492413964\n",
            "RSS local Tree RMSE: 79342.1304513447\n",
            "RSS local Tree RMSE: 78278.78671463106\n",
            "RSS local Tree RMSE: 79867.46986639452\n",
            "RSS local Tree RMSE: 78348.33928957352\n"
          ]
        }
      ]
    },
    {
      "cell_type": "code",
      "source": [
        "total_std = [0 for i in range(2, 5)]\n",
        "total_rmse = [0 for i in range(2, 5)]\n",
        "for i in range(2, 5):\n",
        "  tree = build_tree_total_rss(X_train, y_train, max_depth=i)\n",
        "  y_pred = predict(X_test, tree)\n",
        "  print(\"RSS Gain Tree RMSE:\", mean_squared_error(y_test, y_pred)**(1/2))\n",
        "  total_rmse[i-2]= round(mean_squared_error(y_test, y_pred)**(1/2),0)\n",
        "  total_std[i-2]= round(np.var(y_pred)**(1/2),0)\n",
        "\n"
      ],
      "metadata": {
        "collapsed": true,
        "id": "cPiWs3Q0I3vs",
        "outputId": "d2859cf3-390a-43b4-db8c-5bf922d5a0c8",
        "colab": {
          "base_uri": "https://localhost:8080/",
          "height": 315
        }
      },
      "id": "cPiWs3Q0I3vs",
      "execution_count": 112,
      "outputs": [
        {
          "output_type": "stream",
          "name": "stdout",
          "text": [
            "RSS Gain Tree RMSE: 90981.32622308063\n",
            "RSS Gain Tree RMSE: 81731.58053781748\n",
            "RSS Gain Tree RMSE: 84320.72166469411\n"
          ]
        },
        {
          "output_type": "error",
          "ename": "IndexError",
          "evalue": "list index out of range",
          "traceback": [
            "\u001b[0;31m---------------------------------------------------------------------------\u001b[0m",
            "\u001b[0;31mIndexError\u001b[0m                                Traceback (most recent call last)",
            "\u001b[0;32m<ipython-input-112-eafd71cd70a4>\u001b[0m in \u001b[0;36m<cell line: 0>\u001b[0;34m()\u001b[0m\n\u001b[1;32m      7\u001b[0m   \u001b[0mtotal_rmse\u001b[0m\u001b[0;34m[\u001b[0m\u001b[0mi\u001b[0m\u001b[0;34m-\u001b[0m\u001b[0;36m2\u001b[0m\u001b[0;34m]\u001b[0m\u001b[0;34m=\u001b[0m \u001b[0mround\u001b[0m\u001b[0;34m(\u001b[0m\u001b[0mmean_squared_error\u001b[0m\u001b[0;34m(\u001b[0m\u001b[0my_test\u001b[0m\u001b[0;34m,\u001b[0m \u001b[0my_pred\u001b[0m\u001b[0;34m)\u001b[0m\u001b[0;34m**\u001b[0m\u001b[0;34m(\u001b[0m\u001b[0;36m1\u001b[0m\u001b[0;34m/\u001b[0m\u001b[0;36m2\u001b[0m\u001b[0;34m)\u001b[0m\u001b[0;34m,\u001b[0m\u001b[0;36m0\u001b[0m\u001b[0;34m)\u001b[0m\u001b[0;34m\u001b[0m\u001b[0;34m\u001b[0m\u001b[0m\n\u001b[1;32m      8\u001b[0m   \u001b[0mtotal_std\u001b[0m\u001b[0;34m[\u001b[0m\u001b[0mi\u001b[0m\u001b[0;34m-\u001b[0m\u001b[0;36m2\u001b[0m\u001b[0;34m]\u001b[0m\u001b[0;34m=\u001b[0m \u001b[0mround\u001b[0m\u001b[0;34m(\u001b[0m\u001b[0mnp\u001b[0m\u001b[0;34m.\u001b[0m\u001b[0mvar\u001b[0m\u001b[0;34m(\u001b[0m\u001b[0my_pred\u001b[0m\u001b[0;34m)\u001b[0m\u001b[0;34m**\u001b[0m\u001b[0;34m(\u001b[0m\u001b[0;36m1\u001b[0m\u001b[0;34m/\u001b[0m\u001b[0;36m2\u001b[0m\u001b[0;34m)\u001b[0m\u001b[0;34m,\u001b[0m\u001b[0;36m0\u001b[0m\u001b[0;34m)\u001b[0m\u001b[0;34m\u001b[0m\u001b[0;34m\u001b[0m\u001b[0m\n\u001b[0;32m----> 9\u001b[0;31m \u001b[0mtotal_rmse_std\u001b[0m \u001b[0;34m=\u001b[0m \u001b[0mpd\u001b[0m\u001b[0;34m.\u001b[0m\u001b[0mDataFrame\u001b[0m\u001b[0;34m(\u001b[0m\u001b[0;34m[\u001b[0m\u001b[0;34m[\u001b[0m\u001b[0mtotal_rmse\u001b[0m\u001b[0;34m[\u001b[0m\u001b[0mi\u001b[0m\u001b[0;34m]\u001b[0m\u001b[0;34m,\u001b[0m\u001b[0mtotal_std\u001b[0m\u001b[0;34m[\u001b[0m\u001b[0mi\u001b[0m\u001b[0;34m]\u001b[0m\u001b[0;34m]\u001b[0m \u001b[0;32mfor\u001b[0m \u001b[0mi\u001b[0m \u001b[0;32min\u001b[0m \u001b[0mrange\u001b[0m\u001b[0;34m(\u001b[0m\u001b[0;36m5\u001b[0m\u001b[0;34m)\u001b[0m\u001b[0;34m]\u001b[0m\u001b[0;34m)\u001b[0m\u001b[0;34m\u001b[0m\u001b[0;34m\u001b[0m\u001b[0m\n\u001b[0m",
            "\u001b[0;32m<ipython-input-112-eafd71cd70a4>\u001b[0m in \u001b[0;36m<listcomp>\u001b[0;34m(.0)\u001b[0m\n\u001b[1;32m      7\u001b[0m   \u001b[0mtotal_rmse\u001b[0m\u001b[0;34m[\u001b[0m\u001b[0mi\u001b[0m\u001b[0;34m-\u001b[0m\u001b[0;36m2\u001b[0m\u001b[0;34m]\u001b[0m\u001b[0;34m=\u001b[0m \u001b[0mround\u001b[0m\u001b[0;34m(\u001b[0m\u001b[0mmean_squared_error\u001b[0m\u001b[0;34m(\u001b[0m\u001b[0my_test\u001b[0m\u001b[0;34m,\u001b[0m \u001b[0my_pred\u001b[0m\u001b[0;34m)\u001b[0m\u001b[0;34m**\u001b[0m\u001b[0;34m(\u001b[0m\u001b[0;36m1\u001b[0m\u001b[0;34m/\u001b[0m\u001b[0;36m2\u001b[0m\u001b[0;34m)\u001b[0m\u001b[0;34m,\u001b[0m\u001b[0;36m0\u001b[0m\u001b[0;34m)\u001b[0m\u001b[0;34m\u001b[0m\u001b[0;34m\u001b[0m\u001b[0m\n\u001b[1;32m      8\u001b[0m   \u001b[0mtotal_std\u001b[0m\u001b[0;34m[\u001b[0m\u001b[0mi\u001b[0m\u001b[0;34m-\u001b[0m\u001b[0;36m2\u001b[0m\u001b[0;34m]\u001b[0m\u001b[0;34m=\u001b[0m \u001b[0mround\u001b[0m\u001b[0;34m(\u001b[0m\u001b[0mnp\u001b[0m\u001b[0;34m.\u001b[0m\u001b[0mvar\u001b[0m\u001b[0;34m(\u001b[0m\u001b[0my_pred\u001b[0m\u001b[0;34m)\u001b[0m\u001b[0;34m**\u001b[0m\u001b[0;34m(\u001b[0m\u001b[0;36m1\u001b[0m\u001b[0;34m/\u001b[0m\u001b[0;36m2\u001b[0m\u001b[0;34m)\u001b[0m\u001b[0;34m,\u001b[0m\u001b[0;36m0\u001b[0m\u001b[0;34m)\u001b[0m\u001b[0;34m\u001b[0m\u001b[0;34m\u001b[0m\u001b[0m\n\u001b[0;32m----> 9\u001b[0;31m \u001b[0mtotal_rmse_std\u001b[0m \u001b[0;34m=\u001b[0m \u001b[0mpd\u001b[0m\u001b[0;34m.\u001b[0m\u001b[0mDataFrame\u001b[0m\u001b[0;34m(\u001b[0m\u001b[0;34m[\u001b[0m\u001b[0;34m[\u001b[0m\u001b[0mtotal_rmse\u001b[0m\u001b[0;34m[\u001b[0m\u001b[0mi\u001b[0m\u001b[0;34m]\u001b[0m\u001b[0;34m,\u001b[0m\u001b[0mtotal_std\u001b[0m\u001b[0;34m[\u001b[0m\u001b[0mi\u001b[0m\u001b[0;34m]\u001b[0m\u001b[0;34m]\u001b[0m \u001b[0;32mfor\u001b[0m \u001b[0mi\u001b[0m \u001b[0;32min\u001b[0m \u001b[0mrange\u001b[0m\u001b[0;34m(\u001b[0m\u001b[0;36m5\u001b[0m\u001b[0;34m)\u001b[0m\u001b[0;34m]\u001b[0m\u001b[0;34m)\u001b[0m\u001b[0;34m\u001b[0m\u001b[0;34m\u001b[0m\u001b[0m\n\u001b[0m",
            "\u001b[0;31mIndexError\u001b[0m: list index out of range"
          ]
        }
      ]
    },
    {
      "cell_type": "code",
      "source": [
        "total_rmse_std = pd.DataFrame([[total_rmse[i],total_std[i]] for i in range(3)])\n",
        "total_rmse_std"
      ],
      "metadata": {
        "id": "ByILiFj_NtMd",
        "outputId": "582e2919-08e6-45ac-a301-a32aa0944527",
        "colab": {
          "base_uri": "https://localhost:8080/",
          "height": 143
        }
      },
      "id": "ByILiFj_NtMd",
      "execution_count": 114,
      "outputs": [
        {
          "output_type": "execute_result",
          "data": {
            "text/plain": [
              "         0        1\n",
              "0  90981.0  83837.0\n",
              "1  81732.0  89081.0\n",
              "2  84321.0  97029.0"
            ],
            "text/html": [
              "\n",
              "  <div id=\"df-b9a93dd3-74e8-410c-86a4-018a4637c729\" class=\"colab-df-container\">\n",
              "    <div>\n",
              "<style scoped>\n",
              "    .dataframe tbody tr th:only-of-type {\n",
              "        vertical-align: middle;\n",
              "    }\n",
              "\n",
              "    .dataframe tbody tr th {\n",
              "        vertical-align: top;\n",
              "    }\n",
              "\n",
              "    .dataframe thead th {\n",
              "        text-align: right;\n",
              "    }\n",
              "</style>\n",
              "<table border=\"1\" class=\"dataframe\">\n",
              "  <thead>\n",
              "    <tr style=\"text-align: right;\">\n",
              "      <th></th>\n",
              "      <th>0</th>\n",
              "      <th>1</th>\n",
              "    </tr>\n",
              "  </thead>\n",
              "  <tbody>\n",
              "    <tr>\n",
              "      <th>0</th>\n",
              "      <td>90981.0</td>\n",
              "      <td>83837.0</td>\n",
              "    </tr>\n",
              "    <tr>\n",
              "      <th>1</th>\n",
              "      <td>81732.0</td>\n",
              "      <td>89081.0</td>\n",
              "    </tr>\n",
              "    <tr>\n",
              "      <th>2</th>\n",
              "      <td>84321.0</td>\n",
              "      <td>97029.0</td>\n",
              "    </tr>\n",
              "  </tbody>\n",
              "</table>\n",
              "</div>\n",
              "    <div class=\"colab-df-buttons\">\n",
              "\n",
              "  <div class=\"colab-df-container\">\n",
              "    <button class=\"colab-df-convert\" onclick=\"convertToInteractive('df-b9a93dd3-74e8-410c-86a4-018a4637c729')\"\n",
              "            title=\"Convert this dataframe to an interactive table.\"\n",
              "            style=\"display:none;\">\n",
              "\n",
              "  <svg xmlns=\"http://www.w3.org/2000/svg\" height=\"24px\" viewBox=\"0 -960 960 960\">\n",
              "    <path d=\"M120-120v-720h720v720H120Zm60-500h600v-160H180v160Zm220 220h160v-160H400v160Zm0 220h160v-160H400v160ZM180-400h160v-160H180v160Zm440 0h160v-160H620v160ZM180-180h160v-160H180v160Zm440 0h160v-160H620v160Z\"/>\n",
              "  </svg>\n",
              "    </button>\n",
              "\n",
              "  <style>\n",
              "    .colab-df-container {\n",
              "      display:flex;\n",
              "      gap: 12px;\n",
              "    }\n",
              "\n",
              "    .colab-df-convert {\n",
              "      background-color: #E8F0FE;\n",
              "      border: none;\n",
              "      border-radius: 50%;\n",
              "      cursor: pointer;\n",
              "      display: none;\n",
              "      fill: #1967D2;\n",
              "      height: 32px;\n",
              "      padding: 0 0 0 0;\n",
              "      width: 32px;\n",
              "    }\n",
              "\n",
              "    .colab-df-convert:hover {\n",
              "      background-color: #E2EBFA;\n",
              "      box-shadow: 0px 1px 2px rgba(60, 64, 67, 0.3), 0px 1px 3px 1px rgba(60, 64, 67, 0.15);\n",
              "      fill: #174EA6;\n",
              "    }\n",
              "\n",
              "    .colab-df-buttons div {\n",
              "      margin-bottom: 4px;\n",
              "    }\n",
              "\n",
              "    [theme=dark] .colab-df-convert {\n",
              "      background-color: #3B4455;\n",
              "      fill: #D2E3FC;\n",
              "    }\n",
              "\n",
              "    [theme=dark] .colab-df-convert:hover {\n",
              "      background-color: #434B5C;\n",
              "      box-shadow: 0px 1px 3px 1px rgba(0, 0, 0, 0.15);\n",
              "      filter: drop-shadow(0px 1px 2px rgba(0, 0, 0, 0.3));\n",
              "      fill: #FFFFFF;\n",
              "    }\n",
              "  </style>\n",
              "\n",
              "    <script>\n",
              "      const buttonEl =\n",
              "        document.querySelector('#df-b9a93dd3-74e8-410c-86a4-018a4637c729 button.colab-df-convert');\n",
              "      buttonEl.style.display =\n",
              "        google.colab.kernel.accessAllowed ? 'block' : 'none';\n",
              "\n",
              "      async function convertToInteractive(key) {\n",
              "        const element = document.querySelector('#df-b9a93dd3-74e8-410c-86a4-018a4637c729');\n",
              "        const dataTable =\n",
              "          await google.colab.kernel.invokeFunction('convertToInteractive',\n",
              "                                                    [key], {});\n",
              "        if (!dataTable) return;\n",
              "\n",
              "        const docLinkHtml = 'Like what you see? Visit the ' +\n",
              "          '<a target=\"_blank\" href=https://colab.research.google.com/notebooks/data_table.ipynb>data table notebook</a>'\n",
              "          + ' to learn more about interactive tables.';\n",
              "        element.innerHTML = '';\n",
              "        dataTable['output_type'] = 'display_data';\n",
              "        await google.colab.output.renderOutput(dataTable, element);\n",
              "        const docLink = document.createElement('div');\n",
              "        docLink.innerHTML = docLinkHtml;\n",
              "        element.appendChild(docLink);\n",
              "      }\n",
              "    </script>\n",
              "  </div>\n",
              "\n",
              "\n",
              "<div id=\"df-62e9de6d-0f4e-47d9-9a7d-b623dd19ee2d\">\n",
              "  <button class=\"colab-df-quickchart\" onclick=\"quickchart('df-62e9de6d-0f4e-47d9-9a7d-b623dd19ee2d')\"\n",
              "            title=\"Suggest charts\"\n",
              "            style=\"display:none;\">\n",
              "\n",
              "<svg xmlns=\"http://www.w3.org/2000/svg\" height=\"24px\"viewBox=\"0 0 24 24\"\n",
              "     width=\"24px\">\n",
              "    <g>\n",
              "        <path d=\"M19 3H5c-1.1 0-2 .9-2 2v14c0 1.1.9 2 2 2h14c1.1 0 2-.9 2-2V5c0-1.1-.9-2-2-2zM9 17H7v-7h2v7zm4 0h-2V7h2v10zm4 0h-2v-4h2v4z\"/>\n",
              "    </g>\n",
              "</svg>\n",
              "  </button>\n",
              "\n",
              "<style>\n",
              "  .colab-df-quickchart {\n",
              "      --bg-color: #E8F0FE;\n",
              "      --fill-color: #1967D2;\n",
              "      --hover-bg-color: #E2EBFA;\n",
              "      --hover-fill-color: #174EA6;\n",
              "      --disabled-fill-color: #AAA;\n",
              "      --disabled-bg-color: #DDD;\n",
              "  }\n",
              "\n",
              "  [theme=dark] .colab-df-quickchart {\n",
              "      --bg-color: #3B4455;\n",
              "      --fill-color: #D2E3FC;\n",
              "      --hover-bg-color: #434B5C;\n",
              "      --hover-fill-color: #FFFFFF;\n",
              "      --disabled-bg-color: #3B4455;\n",
              "      --disabled-fill-color: #666;\n",
              "  }\n",
              "\n",
              "  .colab-df-quickchart {\n",
              "    background-color: var(--bg-color);\n",
              "    border: none;\n",
              "    border-radius: 50%;\n",
              "    cursor: pointer;\n",
              "    display: none;\n",
              "    fill: var(--fill-color);\n",
              "    height: 32px;\n",
              "    padding: 0;\n",
              "    width: 32px;\n",
              "  }\n",
              "\n",
              "  .colab-df-quickchart:hover {\n",
              "    background-color: var(--hover-bg-color);\n",
              "    box-shadow: 0 1px 2px rgba(60, 64, 67, 0.3), 0 1px 3px 1px rgba(60, 64, 67, 0.15);\n",
              "    fill: var(--button-hover-fill-color);\n",
              "  }\n",
              "\n",
              "  .colab-df-quickchart-complete:disabled,\n",
              "  .colab-df-quickchart-complete:disabled:hover {\n",
              "    background-color: var(--disabled-bg-color);\n",
              "    fill: var(--disabled-fill-color);\n",
              "    box-shadow: none;\n",
              "  }\n",
              "\n",
              "  .colab-df-spinner {\n",
              "    border: 2px solid var(--fill-color);\n",
              "    border-color: transparent;\n",
              "    border-bottom-color: var(--fill-color);\n",
              "    animation:\n",
              "      spin 1s steps(1) infinite;\n",
              "  }\n",
              "\n",
              "  @keyframes spin {\n",
              "    0% {\n",
              "      border-color: transparent;\n",
              "      border-bottom-color: var(--fill-color);\n",
              "      border-left-color: var(--fill-color);\n",
              "    }\n",
              "    20% {\n",
              "      border-color: transparent;\n",
              "      border-left-color: var(--fill-color);\n",
              "      border-top-color: var(--fill-color);\n",
              "    }\n",
              "    30% {\n",
              "      border-color: transparent;\n",
              "      border-left-color: var(--fill-color);\n",
              "      border-top-color: var(--fill-color);\n",
              "      border-right-color: var(--fill-color);\n",
              "    }\n",
              "    40% {\n",
              "      border-color: transparent;\n",
              "      border-right-color: var(--fill-color);\n",
              "      border-top-color: var(--fill-color);\n",
              "    }\n",
              "    60% {\n",
              "      border-color: transparent;\n",
              "      border-right-color: var(--fill-color);\n",
              "    }\n",
              "    80% {\n",
              "      border-color: transparent;\n",
              "      border-right-color: var(--fill-color);\n",
              "      border-bottom-color: var(--fill-color);\n",
              "    }\n",
              "    90% {\n",
              "      border-color: transparent;\n",
              "      border-bottom-color: var(--fill-color);\n",
              "    }\n",
              "  }\n",
              "</style>\n",
              "\n",
              "  <script>\n",
              "    async function quickchart(key) {\n",
              "      const quickchartButtonEl =\n",
              "        document.querySelector('#' + key + ' button');\n",
              "      quickchartButtonEl.disabled = true;  // To prevent multiple clicks.\n",
              "      quickchartButtonEl.classList.add('colab-df-spinner');\n",
              "      try {\n",
              "        const charts = await google.colab.kernel.invokeFunction(\n",
              "            'suggestCharts', [key], {});\n",
              "      } catch (error) {\n",
              "        console.error('Error during call to suggestCharts:', error);\n",
              "      }\n",
              "      quickchartButtonEl.classList.remove('colab-df-spinner');\n",
              "      quickchartButtonEl.classList.add('colab-df-quickchart-complete');\n",
              "    }\n",
              "    (() => {\n",
              "      let quickchartButtonEl =\n",
              "        document.querySelector('#df-62e9de6d-0f4e-47d9-9a7d-b623dd19ee2d button');\n",
              "      quickchartButtonEl.style.display =\n",
              "        google.colab.kernel.accessAllowed ? 'block' : 'none';\n",
              "    })();\n",
              "  </script>\n",
              "</div>\n",
              "\n",
              "  <div id=\"id_c2161e70-4384-4e1e-bd47-47c152920b9a\">\n",
              "    <style>\n",
              "      .colab-df-generate {\n",
              "        background-color: #E8F0FE;\n",
              "        border: none;\n",
              "        border-radius: 50%;\n",
              "        cursor: pointer;\n",
              "        display: none;\n",
              "        fill: #1967D2;\n",
              "        height: 32px;\n",
              "        padding: 0 0 0 0;\n",
              "        width: 32px;\n",
              "      }\n",
              "\n",
              "      .colab-df-generate:hover {\n",
              "        background-color: #E2EBFA;\n",
              "        box-shadow: 0px 1px 2px rgba(60, 64, 67, 0.3), 0px 1px 3px 1px rgba(60, 64, 67, 0.15);\n",
              "        fill: #174EA6;\n",
              "      }\n",
              "\n",
              "      [theme=dark] .colab-df-generate {\n",
              "        background-color: #3B4455;\n",
              "        fill: #D2E3FC;\n",
              "      }\n",
              "\n",
              "      [theme=dark] .colab-df-generate:hover {\n",
              "        background-color: #434B5C;\n",
              "        box-shadow: 0px 1px 3px 1px rgba(0, 0, 0, 0.15);\n",
              "        filter: drop-shadow(0px 1px 2px rgba(0, 0, 0, 0.3));\n",
              "        fill: #FFFFFF;\n",
              "      }\n",
              "    </style>\n",
              "    <button class=\"colab-df-generate\" onclick=\"generateWithVariable('total_rmse_std')\"\n",
              "            title=\"Generate code using this dataframe.\"\n",
              "            style=\"display:none;\">\n",
              "\n",
              "  <svg xmlns=\"http://www.w3.org/2000/svg\" height=\"24px\"viewBox=\"0 0 24 24\"\n",
              "       width=\"24px\">\n",
              "    <path d=\"M7,19H8.4L18.45,9,17,7.55,7,17.6ZM5,21V16.75L18.45,3.32a2,2,0,0,1,2.83,0l1.4,1.43a1.91,1.91,0,0,1,.58,1.4,1.91,1.91,0,0,1-.58,1.4L9.25,21ZM18.45,9,17,7.55Zm-12,3A5.31,5.31,0,0,0,4.9,8.1,5.31,5.31,0,0,0,1,6.5,5.31,5.31,0,0,0,4.9,4.9,5.31,5.31,0,0,0,6.5,1,5.31,5.31,0,0,0,8.1,4.9,5.31,5.31,0,0,0,12,6.5,5.46,5.46,0,0,0,6.5,12Z\"/>\n",
              "  </svg>\n",
              "    </button>\n",
              "    <script>\n",
              "      (() => {\n",
              "      const buttonEl =\n",
              "        document.querySelector('#id_c2161e70-4384-4e1e-bd47-47c152920b9a button.colab-df-generate');\n",
              "      buttonEl.style.display =\n",
              "        google.colab.kernel.accessAllowed ? 'block' : 'none';\n",
              "\n",
              "      buttonEl.onclick = () => {\n",
              "        google.colab.notebook.generateWithVariable('total_rmse_std');\n",
              "      }\n",
              "      })();\n",
              "    </script>\n",
              "  </div>\n",
              "\n",
              "    </div>\n",
              "  </div>\n"
            ],
            "application/vnd.google.colaboratory.intrinsic+json": {
              "type": "dataframe",
              "variable_name": "total_rmse_std",
              "summary": "{\n  \"name\": \"total_rmse_std\",\n  \"rows\": 3,\n  \"fields\": [\n    {\n      \"column\": 0,\n      \"properties\": {\n        \"dtype\": \"number\",\n        \"std\": 4771.486875178428,\n        \"min\": 81732.0,\n        \"max\": 90981.0,\n        \"num_unique_values\": 3,\n        \"samples\": [\n          90981.0,\n          81732.0,\n          84321.0\n        ],\n        \"semantic_type\": \"\",\n        \"description\": \"\"\n      }\n    },\n    {\n      \"column\": 1,\n      \"properties\": {\n        \"dtype\": \"number\",\n        \"std\": 6642.026598360874,\n        \"min\": 83837.0,\n        \"max\": 97029.0,\n        \"num_unique_values\": 3,\n        \"samples\": [\n          83837.0,\n          89081.0,\n          97029.0\n        ],\n        \"semantic_type\": \"\",\n        \"description\": \"\"\n      }\n    }\n  ]\n}"
            }
          },
          "metadata": {},
          "execution_count": 114
        }
      ]
    },
    {
      "cell_type": "code",
      "source": [
        "y_pred, y1"
      ],
      "metadata": {
        "id": "VQqC0j3kBRBH",
        "outputId": "2c732fec-da27-4365-9b5b-af4f00611eb1",
        "colab": {
          "base_uri": "https://localhost:8080/"
        }
      },
      "id": "VQqC0j3kBRBH",
      "execution_count": null,
      "outputs": [
        {
          "output_type": "execute_result",
          "data": {
            "text/plain": [
              "(array([266729.28613134, 286135.60265724, 223008.68310409, 407678.98861263,\n",
              "        435756.89154129, 281782.24133204, 359328.14262955, 385503.22472409,\n",
              "        359328.14262955, 359328.14262955, 385503.22472409, 435756.89154129,\n",
              "        495412.34988569, 407678.98861263, 379987.81247641, 286135.60265724,\n",
              "        385503.22472409, 457363.18765336, 140958.46754109, 359328.14262955]),\n",
              " array([281782.24133204, 281782.24133204, 140958.46754109, 407678.98861263,\n",
              "        457363.18765336, 281782.24133204, 359328.14262955, 407678.98861263,\n",
              "        359328.14262955, 319036.18592359, 385503.22472409, 435756.89154129,\n",
              "        495412.34988569, 407678.98861263, 359328.14262955, 286135.60265724,\n",
              "        407678.98861263, 457363.18765336, 223008.68310409, 359328.14262955]))"
            ]
          },
          "metadata": {},
          "execution_count": 103
        }
      ]
    },
    {
      "cell_type": "code",
      "source": [
        "tree = build_tree_total_rss(X_train, y_train, max_depth=2)\n",
        "y_pred = predict(X_test, tree)\n",
        "\n",
        "from sklearn.metrics import mean_squared_error\n",
        "print(\"Total RSS Tree RMSE:\", mean_squared_error(y_test, y_pred)**(1/2))"
      ],
      "metadata": {
        "id": "5GEdxRD3jTmP",
        "outputId": "ea9cbe02-5267-4671-d5f2-8315335b50c9",
        "colab": {
          "base_uri": "https://localhost:8080/"
        }
      },
      "id": "5GEdxRD3jTmP",
      "execution_count": null,
      "outputs": [
        {
          "output_type": "stream",
          "name": "stdout",
          "text": [
            "Total RSS Tree RMSE: 0.0\n"
          ]
        }
      ]
    },
    {
      "cell_type": "code",
      "source": [
        "tree = build_tree_total_rss(X_train, y_train, max_depth=4)\n",
        "y_pred = predict(X_test, tree)\n",
        "\n",
        "from sklearn.metrics import mean_squared_error\n",
        "print(\"Total RSS Tree RMSE:\", mean_squared_error(y_test, y_pred)**(1/2))"
      ],
      "metadata": {
        "id": "VzxdVySamznv",
        "outputId": "4d6df72a-5ca3-4a56-8e1d-718f6ade72d6",
        "colab": {
          "base_uri": "https://localhost:8080/"
        }
      },
      "id": "VzxdVySamznv",
      "execution_count": null,
      "outputs": [
        {
          "output_type": "stream",
          "name": "stdout",
          "text": [
            "Total RSS Tree RMSE: 81529.3976796841\n"
          ]
        }
      ]
    },
    {
      "cell_type": "code",
      "source": [
        "y_pred_train = predict(X_train, tree)\n",
        "mean_squared_error(y_train, y_pred_train)**(1/2)"
      ],
      "metadata": {
        "id": "z8JaSZMYra34",
        "outputId": "d3e5d473-f7e8-411c-a2dd-bf81cdd228e3",
        "colab": {
          "base_uri": "https://localhost:8080/"
        }
      },
      "id": "z8JaSZMYra34",
      "execution_count": null,
      "outputs": [
        {
          "output_type": "execute_result",
          "data": {
            "text/plain": [
              "17643.54132112304"
            ]
          },
          "metadata": {},
          "execution_count": 51
        }
      ]
    },
    {
      "cell_type": "code",
      "source": [
        "rss(y_pred_train), rss(y_pred)"
      ],
      "metadata": {
        "id": "4f-9CTJa08eE",
        "outputId": "80c59c18-0342-4584-8cb9-95b97ac5f80e",
        "colab": {
          "base_uri": "https://localhost:8080/"
        }
      },
      "id": "4f-9CTJa08eE",
      "execution_count": null,
      "outputs": [
        {
          "output_type": "execute_result",
          "data": {
            "text/plain": [
              "(np.float64(135678808201.39616), np.float64(79770427635.05501))"
            ]
          },
          "metadata": {},
          "execution_count": 55
        }
      ]
    },
    {
      "cell_type": "code",
      "source": [
        "np.unique(df_nump[:, 1])"
      ],
      "metadata": {
        "id": "5FveHT_i6yW5",
        "outputId": "9ad2471d-ab50-48f7-8ba3-78378885f9db",
        "colab": {
          "base_uri": "https://localhost:8080/"
        }
      },
      "id": "5FveHT_i6yW5",
      "execution_count": null,
      "outputs": [
        {
          "output_type": "execute_result",
          "data": {
            "text/plain": [
              "array([36250, 37377, 38718, 39799, 41023, 43041, 44432, 44676, 44863,\n",
              "       46194, 46526, 46791, 50466, 50647, 51927, 51995, 53844, 54020,\n",
              "       56558, 56892, 57334, 57573, 58862, 59087, 59917, 60285, 62016,\n",
              "       63279, 64365, 64448, 65072, 65840, 68731, 71324, 71605, 71933,\n",
              "       72521, 73226, 73316, 73414, 73552, 74594, 75637, 76379, 76494,\n",
              "       77695, 77904, 82431, 101674, 110584], dtype=object)"
            ]
          },
          "metadata": {},
          "execution_count": 67
        }
      ]
    },
    {
      "cell_type": "code",
      "source": [
        "rmse_gain= [0 for i in range(2, 5)]\n",
        "rmse_local_rss= [0 for i in range(2, 5)]\n",
        "rmse_total_rss= [0 for i in range(2, 5)]\n",
        "var_gain = [0 for i in range(2, 5)]\n",
        "var_local_rss = [0 for i in range(2, 5)]\n",
        "var_total_rss = [0 for i in range(2, 5)]\n",
        "for i in range(2, 5):\n",
        "    tree_total = build_tree_total_rss(X_train, y_train, max_depth=i)\n",
        "    y_pred = predict(X_test, tree_total)\n",
        "    rmse_total_rss[i-2], var_total_rss[i-2]= mean_squared_error(y_test, y_pred)**(1/2), np.var(y_pred)\n",
        "\n",
        "    tree_gain = build_tree_rss_gain(X_train, y_train, max_depth=i)\n",
        "    y_pred_gain = predict(X_test, tree_gain)\n",
        "    rmse_gain[i-2], var_gain[i-2]= mean_squared_error(y_test, y_pred)**(1/2), np.var(y_pred)\n",
        "\n",
        "    tree_local_rss = DecisionTreeRegressor(max_depth=4)\n",
        "    tree_local_rss.fit(X_train, y_train)\n",
        "    y_pred =tree_local_rss.predict(X_test)\n",
        "    rmse_local_rss[i-2], var_local_rss[i-2]= mean_squared_error(y_test, y_pred)**(1/2), np.var(y_pred)"
      ],
      "metadata": {
        "id": "141Y_ymJBXXO",
        "outputId": "dae659ba-b832-40c1-839b-a49354a95838",
        "colab": {
          "base_uri": "https://localhost:8080/"
        }
      },
      "id": "141Y_ymJBXXO",
      "execution_count": null,
      "outputs": [
        {
          "output_type": "stream",
          "name": "stderr",
          "text": [
            "/usr/local/lib/python3.11/dist-packages/numpy/_core/fromnumeric.py:3596: RuntimeWarning: Mean of empty slice.\n",
            "  return _methods._mean(a, axis=axis, dtype=dtype,\n",
            "/usr/local/lib/python3.11/dist-packages/numpy/_core/_methods.py:140: RuntimeWarning: invalid value encountered in scalar divide\n",
            "  ret = ret / rcount\n",
            "/usr/local/lib/python3.11/dist-packages/numpy/_core/fromnumeric.py:3596: RuntimeWarning: Mean of empty slice.\n",
            "  return _methods._mean(a, axis=axis, dtype=dtype,\n",
            "/usr/local/lib/python3.11/dist-packages/numpy/_core/_methods.py:140: RuntimeWarning: invalid value encountered in scalar divide\n",
            "  ret = ret / rcount\n"
          ]
        }
      ]
    },
    {
      "cell_type": "code",
      "source": [],
      "metadata": {
        "id": "O_Caqd1eke5s"
      },
      "id": "O_Caqd1eke5s",
      "execution_count": null,
      "outputs": []
    },
    {
      "cell_type": "code",
      "source": [
        "[rmse_gain, rmse_local_rss, rmse_total_rss, var_gain, var_local_rss, var_total_rss]\n"
      ],
      "metadata": {
        "id": "k-rdyx9AFi6A",
        "outputId": "6e1f0365-3bc0-484a-b5b2-67fe030daad4",
        "colab": {
          "base_uri": "https://localhost:8080/"
        }
      },
      "id": "k-rdyx9AFi6A",
      "execution_count": null,
      "outputs": [
        {
          "output_type": "execute_result",
          "data": {
            "text/plain": [
              "[[0.0, 0.22360679774997896, 0.22360679774997896],\n",
              " [0.0, 0.0, 0.0],\n",
              " [0.0, 0.22360679774997896, 0.22360679774997896],\n",
              " [np.float64(0.20999999999999996), np.float64(0.1875), np.float64(0.1875)],\n",
              " [np.float64(0.20999999999999996),\n",
              "  np.float64(0.20999999999999996),\n",
              "  np.float64(0.20999999999999996)],\n",
              " [np.float64(0.20999999999999996), np.float64(0.1875), np.float64(0.1875)]]"
            ]
          },
          "metadata": {},
          "execution_count": 26
        }
      ]
    },
    {
      "cell_type": "markdown",
      "source": [
        "If you find that any pair of formulations is equivalent, provide a concise proof."
      ],
      "metadata": {
        "id": "9pU5luHQn732"
      },
      "id": "9pU5luHQn732"
    }
  ],
  "metadata": {
    "colab": {
      "provenance": [],
      "include_colab_link": true
    },
    "language_info": {
      "name": "python"
    },
    "kernelspec": {
      "name": "python3",
      "display_name": "Python 3"
    }
  },
  "nbformat": 4,
  "nbformat_minor": 5
}