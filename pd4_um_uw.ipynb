{
  "cells": [
    {
      "cell_type": "markdown",
      "metadata": {
        "id": "view-in-github",
        "colab_type": "text"
      },
      "source": [
        "<a href=\"https://colab.research.google.com/github/kaluznys/uczenie_maszynowe_UW/blob/main/pd4_um_uw.ipynb\" target=\"_parent\"><img src=\"https://colab.research.google.com/assets/colab-badge.svg\" alt=\"Open In Colab\"/></a>"
      ]
    },
    {
      "cell_type": "markdown",
      "source": [
        "# **Homework Assignment: Analyzing and Plotting Bias in Penalized Regression**\n",
        "\n",
        "-------------------------------\n",
        "\n",
        "In this assignment, you will explore how **Ridge** and **Lasso** regression introduce **bias** into a model to reduce **variance**, and how the choice of the regularization parameter $\\lambda$ affects this trade-off. The goal is to visualize and analyze the **bias-variance trade-off** and understand the conditions under which penalization helps or hinders model performance.\n",
        "\n",
        "## **The Question**\n",
        "\n",
        "**How does varying the regularization parameter $\\lambda$ in Ridge and Lasso regression impact the trade-off between bias and variance?**\n",
        "\n",
        "- Generate a synthetic dataset based on a **known** linear relationship:\n",
        "  \n",
        "  $$\n",
        "  y = \\beta_0 + \\beta_1 x + \\ldots + \\epsilon\n",
        "  $$\n",
        "\n",
        "  where $$\\epsilon \\sim \\mathcal{N}(0, \\sigma^2),$$\n",
        "\n",
        "  use a **high-dimensional** setting (e.g., 50 predictors) with only a few non-zero true coefficients to emphasize the effects of regularization. I stress, the $\\beta_i$ coefficients should be known for this experiment and they should be mostly 0, with only a few non-zero parameters.\n",
        "\n",
        "- Investigate how increasing $\\lambda$ influences the model’s **bias**, **variance**, and **Mean Squared Error (MSE)**.\n",
        "- Plot **Bias²**, **Variance**, and **MSE** on a single graph for both Ridge and Lasso models.\n",
        "- Explain MSE decomposition into bias and variance. Read more on the MSE decomposition if you need to.\n",
        "\n",
        "**Does the regularization lead to an optimal trade-off point where MSE is minimized? Explain why this point exists.**\n",
        "\n",
        "\n",
        "\n",
        "\n",
        "**Expected Outcome:**\n",
        " - As $\\lambda$ increases:\n",
        "   - **Bias** increases (the model becomes too simple).\n",
        "   - **Variance** decreases (the model becomes more stable).\n",
        "   - **MSE** forms a **U-shape**, revealing the optimal trade-off.\n",
        "\n",
        "- Analyze how **Ridge** and **Lasso** differ in terms of their bias-variance trade-offs.\n",
        "- Discuss situations where one method may outperform the other, considering factors like **feature sparsity** and **multicollinearity**.\n",
        "\n",
        "\n",
        "## **Colab Notebook Requirements**\n",
        "- Your **Colab notebook** should:\n",
        "  - Simulate the synthetic dataset and apply Ridge and Lasso regression.\n",
        "  - Plot **Bias²**, **Variance**, and **MSE** against $\\lambda$ for both models.\n",
        "  - Include a section answering the questions.\n",
        "  - Be well-documented with comments and explanations for each step.\n",
        "\n",
        "\n",
        "## **Publish on GitHub**\n",
        "- Upload your Colab notebook to your **GitHub repository** for this course.\n",
        "- In your repository’s **README**, include a **link** to the notebook.\n",
        "- In the notebook include **“Open in Colab”** badge so the notebook can be launched directly from GitHub.\n"
      ],
      "metadata": {
        "id": "edCfpwkVKoyf"
      },
      "id": "edCfpwkVKoyf"
    },
    {
      "cell_type": "code",
      "source": [
        "import random\n",
        "import numpy as np\n",
        "import pandas as pd\n",
        "import matplotlib.pyplot as plt\n",
        "import seaborn as sns\n",
        "\n",
        "coef_true=[0]*50\n",
        "for i in range(50):\n",
        "  if i%5!=0:\n",
        "    coef_true[i]=0\n",
        "  elif i==0:\n",
        "    coef_true[i]=random.uniform(0,1)\n",
        "  elif i%10==0:\n",
        "    coef_true[i]=random.uniform(0,1)\n",
        "  else:\n",
        "    coef_true[i]=random.uniform(1,2)\n",
        "coef_true=np.array(coef_true)\n",
        "\n"
      ],
      "metadata": {
        "id": "mqSzoux94FiH"
      },
      "id": "mqSzoux94FiH",
      "execution_count": null,
      "outputs": []
    },
    {
      "cell_type": "code",
      "source": [
        "print(\"pupa\")"
      ],
      "metadata": {
        "id": "IxJ_EPaaKtXm"
      },
      "id": "IxJ_EPaaKtXm",
      "execution_count": null,
      "outputs": []
    },
    {
      "cell_type": "code",
      "source": [
        "import sklearn.linear_model\n",
        "from sklearn.linear_model import LassoCV, Lasso, Ridge\n",
        "from sklearn.preprocessing import StandardScaler\n",
        "from sklearn.model_selection import train_test_split\n",
        "from sklearn.metrics import mean_squared_error\n",
        "\n",
        "def artif_data_sc():\n",
        "  matr=[0]*1000\n",
        "  for i in range(1000):\n",
        "    matr[i]=[random.uniform(0,i+1) for j in range(50)]\n",
        "    matr[i][0] = 1\n",
        "  y_true = np.dot(matr, coef_true)\n",
        "  df = pd.DataFrame(matr)\n",
        "  df.columns = [f\"x{i}\" for i in range(df.shape[1])]\n",
        "  df[\"y\"] = y_true\n",
        "\n",
        "  df_sc = StandardScaler().fit_transform(df)\n",
        "  df_sc = pd.DataFrame(df_sc, columns=df.columns)\n",
        "\n",
        "  return [df_sc.iloc[:,:-1], df_sc.iloc[:,-1]]\n"
      ],
      "metadata": {
        "id": "lpjsFfJ4ASyD"
      },
      "id": "lpjsFfJ4ASyD",
      "execution_count": null,
      "outputs": []
    },
    {
      "cell_type": "code",
      "source": [
        "y_true = artif_data_sc()[1]\n",
        "y_true"
      ],
      "metadata": {
        "id": "-Po5c6L_DkpF",
        "outputId": "f2b17cf1-2bc0-4e07-8de6-224c083c8b4d",
        "colab": {
          "base_uri": "https://localhost:8080/",
          "height": 458
        }
      },
      "id": "-Po5c6L_DkpF",
      "execution_count": null,
      "outputs": [
        {
          "output_type": "execute_result",
          "data": {
            "text/plain": [
              "0     -1.590177\n",
              "1     -1.589360\n",
              "2     -1.585689\n",
              "3     -1.575239\n",
              "4     -1.575599\n",
              "         ...   \n",
              "995    0.711606\n",
              "996    2.586008\n",
              "997    2.038809\n",
              "998    2.777446\n",
              "999    1.962054\n",
              "Name: y, Length: 1000, dtype: float64"
            ],
            "text/html": [
              "<div>\n",
              "<style scoped>\n",
              "    .dataframe tbody tr th:only-of-type {\n",
              "        vertical-align: middle;\n",
              "    }\n",
              "\n",
              "    .dataframe tbody tr th {\n",
              "        vertical-align: top;\n",
              "    }\n",
              "\n",
              "    .dataframe thead th {\n",
              "        text-align: right;\n",
              "    }\n",
              "</style>\n",
              "<table border=\"1\" class=\"dataframe\">\n",
              "  <thead>\n",
              "    <tr style=\"text-align: right;\">\n",
              "      <th></th>\n",
              "      <th>y</th>\n",
              "    </tr>\n",
              "  </thead>\n",
              "  <tbody>\n",
              "    <tr>\n",
              "      <th>0</th>\n",
              "      <td>-1.590177</td>\n",
              "    </tr>\n",
              "    <tr>\n",
              "      <th>1</th>\n",
              "      <td>-1.589360</td>\n",
              "    </tr>\n",
              "    <tr>\n",
              "      <th>2</th>\n",
              "      <td>-1.585689</td>\n",
              "    </tr>\n",
              "    <tr>\n",
              "      <th>3</th>\n",
              "      <td>-1.575239</td>\n",
              "    </tr>\n",
              "    <tr>\n",
              "      <th>4</th>\n",
              "      <td>-1.575599</td>\n",
              "    </tr>\n",
              "    <tr>\n",
              "      <th>...</th>\n",
              "      <td>...</td>\n",
              "    </tr>\n",
              "    <tr>\n",
              "      <th>995</th>\n",
              "      <td>0.711606</td>\n",
              "    </tr>\n",
              "    <tr>\n",
              "      <th>996</th>\n",
              "      <td>2.586008</td>\n",
              "    </tr>\n",
              "    <tr>\n",
              "      <th>997</th>\n",
              "      <td>2.038809</td>\n",
              "    </tr>\n",
              "    <tr>\n",
              "      <th>998</th>\n",
              "      <td>2.777446</td>\n",
              "    </tr>\n",
              "    <tr>\n",
              "      <th>999</th>\n",
              "      <td>1.962054</td>\n",
              "    </tr>\n",
              "  </tbody>\n",
              "</table>\n",
              "<p>1000 rows × 1 columns</p>\n",
              "</div><br><label><b>dtype:</b> float64</label>"
            ]
          },
          "metadata": {},
          "execution_count": 10
        }
      ]
    },
    {
      "cell_type": "code",
      "source": [
        "\n",
        "alphas=np.logspace(-3, 3, 100)\n",
        "biases_las=[[0 for i in range(100)] for j in range(100)]\n",
        "biases_l2=[[0 for i in range(100)]  for j in range(100)]\n",
        "variances_las=[[0 for i in range(100)]  for j in range(100)]\n",
        "variances_l2=[[0 for i in range(100)]  for j in range(100)]\n",
        "\n",
        "bias2_las=[0  for j in range(100)]\n",
        "bias2_l2=[0   for j in range(100)]\n",
        "var_las=[0   for j in range(100)]\n",
        "var_l2=[0 for j in range(100)]\n",
        "\n",
        "for j in range(len(alphas)):\n",
        "  for i in range(100):\n",
        "    matr  = artif_data_sc()[0]\n",
        "    y_true = artif_data_sc()[1]\n",
        "    X_train, X_test, y_train, y_test = train_test_split(matr, y_true, test_size=0.2, random_state=42)\n",
        "\n",
        "    las_mod=Lasso(alpha=alphas[j]).fit(X_train, y_train)\n",
        "    y_las_pred= las_mod.predict(X_train)\n",
        "    l2_mod=Ridge(alpha=alphas[j]).fit(X_train, y_train)\n",
        "    y_l2_pred= l2_mod.predict(X_train)\n",
        "\n",
        "    y_las_mean_pred = np.mean(y_las_pred)\n",
        "    y_l2_mean_pred = np.mean(y_l2_pred)\n",
        "\n",
        "    biases_las[j][i]=np.mean(y_las_mean_pred-y_true)**2\n",
        "    variances_las[j][i]=np.var(y_las_pred)\n",
        "    biases_l2[j][i]=np.mean(y_l2_mean_pred-y_true)**2\n",
        "    variances_l2[j][i]=np.var(y_l2_pred)\n",
        "\n",
        "  bias2_las[j] = np.mean(biases_las[j])\n",
        "  var_las = np.mean(variances_las[j])\n",
        "  bias2_l2[j] =np.mean(biases_l2[j])\n",
        "  var_l2 = (variances_l2[j])\n",
        "\n",
        "\n"
      ],
      "metadata": {
        "id": "9gfSNWOEAY9R"
      },
      "id": "9gfSNWOEAY9R",
      "execution_count": null,
      "outputs": []
    },
    {
      "cell_type": "code",
      "source": [
        "def plot_metric(metric_ridge, metric_lasso, title, ylabel):\n",
        "    plt.plot(lambdas, metric_ridge, label='Ridge', marker='o')\n",
        "    plt.plot(lambdas, metric_lasso, label='Lasso', marker='s')\n",
        "    plt.xscale('log')\n",
        "    plt.xlabel('Lambda (Regularization Strength)')\n",
        "    plt.ylabel(ylabel)\n",
        "    plt.title(title)\n",
        "    plt.legend()\n",
        "    plt.grid(True)\n",
        "\n",
        "plt.subplot(1, 3, 1)\n",
        "plot_metric(ridge_bias2, lasso_bias2, 'Bias² vs Lambda', 'Bias²')\n",
        "\n",
        "plt.subplot(1, 3, 2)\n",
        "plot_metric(ridge_var, lasso_var, 'Variance vs Lambda', 'Variance')\n",
        "\n",
        "plt.subplot(1, 3, 3)\n",
        "plot_metric(ridge_mse, lasso_mse, 'MSE vs Lambda', 'MSE')\n",
        "\n",
        "plt.tight_layout()\n",
        "plt.show()"
      ],
      "metadata": {
        "colab": {
          "base_uri": "https://localhost:8080/"
        },
        "id": "FzSwEzeu-YlK",
        "outputId": "662e85ab-8778-4f7c-9405-fee0ff695a2c"
      },
      "id": "FzSwEzeu-YlK",
      "execution_count": null,
      "outputs": [
        {
          "output_type": "execute_result",
          "data": {
            "text/plain": [
              "Index(['x0', 'x1', 'x2', 'x3', 'x4', 'x5', 'x6', 'x7', 'x8', 'x9', 'x10',\n",
              "       'x11', 'x12', 'x13', 'x14', 'x15', 'x16', 'x17', 'x18', 'x19', 'x20',\n",
              "       'x21', 'x22', 'x23', 'x24', 'x25', 'x26', 'x27', 'x28', 'x29', 'x30',\n",
              "       'x31', 'x32', 'x33', 'x34', 'x35', 'x36', 'x37', 'x38', 'x39', 'x40',\n",
              "       'x41', 'x42', 'x43', 'x44', 'x45', 'x46', 'x47', 'x48', 'x49', 'y'],\n",
              "      dtype='object')"
            ]
          },
          "metadata": {},
          "execution_count": 47
        }
      ]
    },
    {
      "cell_type": "code",
      "source": [],
      "metadata": {
        "id": "oj7j28094Bjx"
      },
      "id": "oj7j28094Bjx",
      "execution_count": null,
      "outputs": []
    }
  ],
  "metadata": {
    "colab": {
      "provenance": [],
      "include_colab_link": true
    },
    "language_info": {
      "name": "python"
    },
    "kernelspec": {
      "name": "python3",
      "display_name": "Python 3"
    }
  },
  "nbformat": 4,
  "nbformat_minor": 5
}