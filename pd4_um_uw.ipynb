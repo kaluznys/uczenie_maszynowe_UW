{
  "cells": [
    {
      "cell_type": "markdown",
      "metadata": {
        "id": "view-in-github",
        "colab_type": "text"
      },
      "source": [
        "<a href=\"https://colab.research.google.com/github/kaluznys/uczenie_maszynowe_UW/blob/main/pd4_um_uw.ipynb\" target=\"_parent\"><img src=\"https://colab.research.google.com/assets/colab-badge.svg\" alt=\"Open In Colab\"/></a>"
      ]
    },
    {
      "cell_type": "markdown",
      "source": [
        "# **Homework Assignment: Analyzing and Plotting Bias in Penalized Regression**\n",
        "\n",
        "-------------------------------\n",
        "\n",
        "In this assignment, you will explore how **Ridge** and **Lasso** regression introduce **bias** into a model to reduce **variance**, and how the choice of the regularization parameter $\\lambda$ affects this trade-off. The goal is to visualize and analyze the **bias-variance trade-off** and understand the conditions under which penalization helps or hinders model performance.\n",
        "\n",
        "## **The Question**\n",
        "\n",
        "**How does varying the regularization parameter $\\lambda$ in Ridge and Lasso regression impact the trade-off between bias and variance?**\n",
        "\n",
        "- Generate a synthetic dataset based on a **known** linear relationship:\n",
        "  \n",
        "  $$\n",
        "  y = \\beta_0 + \\beta_1 x + \\ldots + \\epsilon\n",
        "  $$\n",
        "\n",
        "  where $$\\epsilon \\sim \\mathcal{N}(0, \\sigma^2),$$\n",
        "\n",
        "  use a **high-dimensional** setting (e.g., 50 predictors) with only a few non-zero true coefficients to emphasize the effects of regularization. I stress, the $\\beta_i$ coefficients should be known for this experiment and they should be mostly 0, with only a few non-zero parameters.\n",
        "\n",
        "- Investigate how increasing $\\lambda$ influences the model’s **bias**, **variance**, and **Mean Squared Error (MSE)**.\n",
        "- Plot **Bias²**, **Variance**, and **MSE** on a single graph for both Ridge and Lasso models.\n",
        "- Explain MSE decomposition into bias and variance. Read more on the MSE decomposition if you need to.\n",
        "\n",
        "**Does the regularization lead to an optimal trade-off point where MSE is minimized? Explain why this point exists.**\n",
        "\n",
        "\n",
        "\n",
        "\n",
        "**Expected Outcome:**\n",
        " - As $\\lambda$ increases:\n",
        "   - **Bias** increases (the model becomes too simple).\n",
        "   - **Variance** decreases (the model becomes more stable).\n",
        "   - **MSE** forms a **U-shape**, revealing the optimal trade-off.\n",
        "\n",
        "- Analyze how **Ridge** and **Lasso** differ in terms of their bias-variance trade-offs.\n",
        "- Discuss situations where one method may outperform the other, considering factors like **feature sparsity** and **multicollinearity**.\n",
        "\n",
        "\n",
        "## **Colab Notebook Requirements**\n",
        "- Your **Colab notebook** should:\n",
        "  - Simulate the synthetic dataset and apply Ridge and Lasso regression.\n",
        "  - Plot **Bias²**, **Variance**, and **MSE** against $\\lambda$ for both models.\n",
        "  - Include a section answering the questions.\n",
        "  - Be well-documented with comments and explanations for each step.\n",
        "\n",
        "\n",
        "## **Publish on GitHub**\n",
        "- Upload your Colab notebook to your **GitHub repository** for this course.\n",
        "- In your repository’s **README**, include a **link** to the notebook.\n",
        "- In the notebook include **“Open in Colab”** badge so the notebook can be launched directly from GitHub.\n"
      ],
      "metadata": {
        "id": "edCfpwkVKoyf"
      },
      "id": "edCfpwkVKoyf"
    },
    {
      "cell_type": "code",
      "source": [
        "import random\n",
        "import numpy as np\n",
        "import pandas as pd\n",
        "import matplotlib.pyplot as plt\n",
        "import seaborn as sns\n",
        "matr=[0]*1000\n",
        "for i in range(1000):\n",
        "    matr[i]=[random.uniform(0,i+1) for j in range(50)]\n",
        "coef_true=[0]*50\n",
        "for i in range(50):\n",
        "    if i%5!=0:\n",
        "        coef_true[i]=0\n",
        "    elif i%10==0:\n",
        "        coef_true[i]=random.uniform(0,1)\n",
        "    else:\n",
        "        coef_true[i]=random.uniform(1,2)\n",
        "coef_true=np.array(coef_true)\n",
        "y_true = np.dot(matr, coef_true)"
      ],
      "metadata": {
        "id": "mqSzoux94FiH"
      },
      "id": "mqSzoux94FiH",
      "execution_count": 31,
      "outputs": []
    },
    {
      "cell_type": "code",
      "source": [
        "import sklearn.linear_model\n",
        "#from sklearn.linear_model import LassoCV, Lasso, Ridge\n",
        "from sklearn.preprocessing import StandardScaler\n",
        "from sklearn.model_selection import train_test_split\n",
        "from sklearn.metrics import mean_squared_error\n",
        "\n",
        "#y_true_sc = StandardScaler().fit_transform(y_true)\n",
        "df = pd.DataFrame(matr)\n",
        "df.columns = [f\"x{i}\" for i in range(df.shape[1])]\n",
        "df[\"y\"] = y_true\n",
        "df.head()\n",
        "\n",
        "df_sc = StandardScaler().fit_transform(df)\n",
        "df_sc = pd.DataFrame(df_sc, columns=df.columns)\n",
        "df_sc.head()\n",
        "\n",
        "X_train, X_test, y_train, y_test = train_test_split(matr, y_true, test_size=0.2, random_state=42)\n"
      ],
      "metadata": {
        "id": "851jGRGj1PXW"
      },
      "id": "851jGRGj1PXW",
      "execution_count": 46,
      "outputs": []
    },
    {
      "cell_type": "code",
      "source": [
        "df.columns"
      ],
      "metadata": {
        "id": "FzSwEzeu-YlK",
        "outputId": "662e85ab-8778-4f7c-9405-fee0ff695a2c",
        "colab": {
          "base_uri": "https://localhost:8080/"
        }
      },
      "id": "FzSwEzeu-YlK",
      "execution_count": 47,
      "outputs": [
        {
          "output_type": "execute_result",
          "data": {
            "text/plain": [
              "Index(['x0', 'x1', 'x2', 'x3', 'x4', 'x5', 'x6', 'x7', 'x8', 'x9', 'x10',\n",
              "       'x11', 'x12', 'x13', 'x14', 'x15', 'x16', 'x17', 'x18', 'x19', 'x20',\n",
              "       'x21', 'x22', 'x23', 'x24', 'x25', 'x26', 'x27', 'x28', 'x29', 'x30',\n",
              "       'x31', 'x32', 'x33', 'x34', 'x35', 'x36', 'x37', 'x38', 'x39', 'x40',\n",
              "       'x41', 'x42', 'x43', 'x44', 'x45', 'x46', 'x47', 'x48', 'x49', 'y'],\n",
              "      dtype='object')"
            ]
          },
          "metadata": {},
          "execution_count": 47
        }
      ]
    },
    {
      "cell_type": "code",
      "source": [],
      "metadata": {
        "id": "oj7j28094Bjx"
      },
      "id": "oj7j28094Bjx",
      "execution_count": null,
      "outputs": []
    }
  ],
  "metadata": {
    "colab": {
      "provenance": [],
      "include_colab_link": true
    },
    "language_info": {
      "name": "python"
    },
    "kernelspec": {
      "name": "python3",
      "display_name": "Python 3"
    }
  },
  "nbformat": 4,
  "nbformat_minor": 5
}